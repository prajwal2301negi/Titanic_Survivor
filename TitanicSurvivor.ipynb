{
 "cells": [
  {
   "cell_type": "markdown",
   "id": "c65f95d1-4643-4b8b-8ed7-ddd74da36371",
   "metadata": {},
   "source": [
    "# Titanic Survivor"
   ]
  },
  {
   "cell_type": "code",
   "execution_count": 1,
   "id": "056cb8bd-4d11-49ea-b9a9-6d5eec592b99",
   "metadata": {},
   "outputs": [],
   "source": [
    "# Firstly we do Univariant, now we will be doing Multivariant(more than 1 feature)"
   ]
  },
  {
   "cell_type": "code",
   "execution_count": 2,
   "id": "042444c2-6eb3-47a6-b0c3-68ae79d7638f",
   "metadata": {},
   "outputs": [],
   "source": [
    "import numpy as np\n",
    "import pandas as pd\n",
    "import matplotlib.pyplot as plt"
   ]
  },
  {
   "cell_type": "code",
   "execution_count": 3,
   "id": "8afcf77c-0987-41e1-b851-9332783f8c7c",
   "metadata": {},
   "outputs": [],
   "source": [
    "train_df = pd.read_csv(r\"C:\\Users\\prajwal\\Downloads\\trainTitanic.csv\")\n",
    "test_df = pd.read_csv(r\"C:\\Users\\prajwal\\Downloads\\testTitanic.csv\")"
   ]
  },
  {
   "cell_type": "code",
   "execution_count": 4,
   "id": "6e256ce1-3769-42e3-bf11-b877e770a42d",
   "metadata": {},
   "outputs": [
    {
     "data": {
      "text/html": [
       "<div>\n",
       "<style scoped>\n",
       "    .dataframe tbody tr th:only-of-type {\n",
       "        vertical-align: middle;\n",
       "    }\n",
       "\n",
       "    .dataframe tbody tr th {\n",
       "        vertical-align: top;\n",
       "    }\n",
       "\n",
       "    .dataframe thead th {\n",
       "        text-align: right;\n",
       "    }\n",
       "</style>\n",
       "<table border=\"1\" class=\"dataframe\">\n",
       "  <thead>\n",
       "    <tr style=\"text-align: right;\">\n",
       "      <th></th>\n",
       "      <th>PassengerId</th>\n",
       "      <th>Survived</th>\n",
       "      <th>Pclass</th>\n",
       "      <th>Name</th>\n",
       "      <th>Sex</th>\n",
       "      <th>Age</th>\n",
       "      <th>SibSp</th>\n",
       "      <th>Parch</th>\n",
       "      <th>Ticket</th>\n",
       "      <th>Fare</th>\n",
       "      <th>Cabin</th>\n",
       "      <th>Embarked</th>\n",
       "    </tr>\n",
       "  </thead>\n",
       "  <tbody>\n",
       "    <tr>\n",
       "      <th>0</th>\n",
       "      <td>1</td>\n",
       "      <td>0</td>\n",
       "      <td>3</td>\n",
       "      <td>Braund, Mr. Owen Harris</td>\n",
       "      <td>male</td>\n",
       "      <td>22.0</td>\n",
       "      <td>1</td>\n",
       "      <td>0</td>\n",
       "      <td>A/5 21171</td>\n",
       "      <td>7.2500</td>\n",
       "      <td>NaN</td>\n",
       "      <td>S</td>\n",
       "    </tr>\n",
       "    <tr>\n",
       "      <th>1</th>\n",
       "      <td>2</td>\n",
       "      <td>1</td>\n",
       "      <td>1</td>\n",
       "      <td>Cumings, Mrs. John Bradley (Florence Briggs Th...</td>\n",
       "      <td>female</td>\n",
       "      <td>38.0</td>\n",
       "      <td>1</td>\n",
       "      <td>0</td>\n",
       "      <td>PC 17599</td>\n",
       "      <td>71.2833</td>\n",
       "      <td>C85</td>\n",
       "      <td>C</td>\n",
       "    </tr>\n",
       "    <tr>\n",
       "      <th>2</th>\n",
       "      <td>3</td>\n",
       "      <td>1</td>\n",
       "      <td>3</td>\n",
       "      <td>Heikkinen, Miss. Laina</td>\n",
       "      <td>female</td>\n",
       "      <td>26.0</td>\n",
       "      <td>0</td>\n",
       "      <td>0</td>\n",
       "      <td>STON/O2. 3101282</td>\n",
       "      <td>7.9250</td>\n",
       "      <td>NaN</td>\n",
       "      <td>S</td>\n",
       "    </tr>\n",
       "    <tr>\n",
       "      <th>3</th>\n",
       "      <td>4</td>\n",
       "      <td>1</td>\n",
       "      <td>1</td>\n",
       "      <td>Futrelle, Mrs. Jacques Heath (Lily May Peel)</td>\n",
       "      <td>female</td>\n",
       "      <td>35.0</td>\n",
       "      <td>1</td>\n",
       "      <td>0</td>\n",
       "      <td>113803</td>\n",
       "      <td>53.1000</td>\n",
       "      <td>C123</td>\n",
       "      <td>S</td>\n",
       "    </tr>\n",
       "    <tr>\n",
       "      <th>4</th>\n",
       "      <td>5</td>\n",
       "      <td>0</td>\n",
       "      <td>3</td>\n",
       "      <td>Allen, Mr. William Henry</td>\n",
       "      <td>male</td>\n",
       "      <td>35.0</td>\n",
       "      <td>0</td>\n",
       "      <td>0</td>\n",
       "      <td>373450</td>\n",
       "      <td>8.0500</td>\n",
       "      <td>NaN</td>\n",
       "      <td>S</td>\n",
       "    </tr>\n",
       "    <tr>\n",
       "      <th>...</th>\n",
       "      <td>...</td>\n",
       "      <td>...</td>\n",
       "      <td>...</td>\n",
       "      <td>...</td>\n",
       "      <td>...</td>\n",
       "      <td>...</td>\n",
       "      <td>...</td>\n",
       "      <td>...</td>\n",
       "      <td>...</td>\n",
       "      <td>...</td>\n",
       "      <td>...</td>\n",
       "      <td>...</td>\n",
       "    </tr>\n",
       "    <tr>\n",
       "      <th>886</th>\n",
       "      <td>887</td>\n",
       "      <td>0</td>\n",
       "      <td>2</td>\n",
       "      <td>Montvila, Rev. Juozas</td>\n",
       "      <td>male</td>\n",
       "      <td>27.0</td>\n",
       "      <td>0</td>\n",
       "      <td>0</td>\n",
       "      <td>211536</td>\n",
       "      <td>13.0000</td>\n",
       "      <td>NaN</td>\n",
       "      <td>S</td>\n",
       "    </tr>\n",
       "    <tr>\n",
       "      <th>887</th>\n",
       "      <td>888</td>\n",
       "      <td>1</td>\n",
       "      <td>1</td>\n",
       "      <td>Graham, Miss. Margaret Edith</td>\n",
       "      <td>female</td>\n",
       "      <td>19.0</td>\n",
       "      <td>0</td>\n",
       "      <td>0</td>\n",
       "      <td>112053</td>\n",
       "      <td>30.0000</td>\n",
       "      <td>B42</td>\n",
       "      <td>S</td>\n",
       "    </tr>\n",
       "    <tr>\n",
       "      <th>888</th>\n",
       "      <td>889</td>\n",
       "      <td>0</td>\n",
       "      <td>3</td>\n",
       "      <td>Johnston, Miss. Catherine Helen \"Carrie\"</td>\n",
       "      <td>female</td>\n",
       "      <td>NaN</td>\n",
       "      <td>1</td>\n",
       "      <td>2</td>\n",
       "      <td>W./C. 6607</td>\n",
       "      <td>23.4500</td>\n",
       "      <td>NaN</td>\n",
       "      <td>S</td>\n",
       "    </tr>\n",
       "    <tr>\n",
       "      <th>889</th>\n",
       "      <td>890</td>\n",
       "      <td>1</td>\n",
       "      <td>1</td>\n",
       "      <td>Behr, Mr. Karl Howell</td>\n",
       "      <td>male</td>\n",
       "      <td>26.0</td>\n",
       "      <td>0</td>\n",
       "      <td>0</td>\n",
       "      <td>111369</td>\n",
       "      <td>30.0000</td>\n",
       "      <td>C148</td>\n",
       "      <td>C</td>\n",
       "    </tr>\n",
       "    <tr>\n",
       "      <th>890</th>\n",
       "      <td>891</td>\n",
       "      <td>0</td>\n",
       "      <td>3</td>\n",
       "      <td>Dooley, Mr. Patrick</td>\n",
       "      <td>male</td>\n",
       "      <td>32.0</td>\n",
       "      <td>0</td>\n",
       "      <td>0</td>\n",
       "      <td>370376</td>\n",
       "      <td>7.7500</td>\n",
       "      <td>NaN</td>\n",
       "      <td>Q</td>\n",
       "    </tr>\n",
       "  </tbody>\n",
       "</table>\n",
       "<p>891 rows × 12 columns</p>\n",
       "</div>"
      ],
      "text/plain": [
       "     PassengerId  Survived  Pclass  \\\n",
       "0              1         0       3   \n",
       "1              2         1       1   \n",
       "2              3         1       3   \n",
       "3              4         1       1   \n",
       "4              5         0       3   \n",
       "..           ...       ...     ...   \n",
       "886          887         0       2   \n",
       "887          888         1       1   \n",
       "888          889         0       3   \n",
       "889          890         1       1   \n",
       "890          891         0       3   \n",
       "\n",
       "                                                  Name     Sex   Age  SibSp  \\\n",
       "0                              Braund, Mr. Owen Harris    male  22.0      1   \n",
       "1    Cumings, Mrs. John Bradley (Florence Briggs Th...  female  38.0      1   \n",
       "2                               Heikkinen, Miss. Laina  female  26.0      0   \n",
       "3         Futrelle, Mrs. Jacques Heath (Lily May Peel)  female  35.0      1   \n",
       "4                             Allen, Mr. William Henry    male  35.0      0   \n",
       "..                                                 ...     ...   ...    ...   \n",
       "886                              Montvila, Rev. Juozas    male  27.0      0   \n",
       "887                       Graham, Miss. Margaret Edith  female  19.0      0   \n",
       "888           Johnston, Miss. Catherine Helen \"Carrie\"  female   NaN      1   \n",
       "889                              Behr, Mr. Karl Howell    male  26.0      0   \n",
       "890                                Dooley, Mr. Patrick    male  32.0      0   \n",
       "\n",
       "     Parch            Ticket     Fare Cabin Embarked  \n",
       "0        0         A/5 21171   7.2500   NaN        S  \n",
       "1        0          PC 17599  71.2833   C85        C  \n",
       "2        0  STON/O2. 3101282   7.9250   NaN        S  \n",
       "3        0            113803  53.1000  C123        S  \n",
       "4        0            373450   8.0500   NaN        S  \n",
       "..     ...               ...      ...   ...      ...  \n",
       "886      0            211536  13.0000   NaN        S  \n",
       "887      0            112053  30.0000   B42        S  \n",
       "888      2        W./C. 6607  23.4500   NaN        S  \n",
       "889      0            111369  30.0000  C148        C  \n",
       "890      0            370376   7.7500   NaN        Q  \n",
       "\n",
       "[891 rows x 12 columns]"
      ]
     },
     "execution_count": 4,
     "metadata": {},
     "output_type": "execute_result"
    }
   ],
   "source": [
    "train_df"
   ]
  },
  {
   "cell_type": "code",
   "execution_count": 5,
   "id": "10653459-a0d3-40e4-b101-bca675602e6e",
   "metadata": {},
   "outputs": [
    {
     "data": {
      "text/plain": [
       "(891, 12)"
      ]
     },
     "execution_count": 5,
     "metadata": {},
     "output_type": "execute_result"
    }
   ],
   "source": [
    "train_df.shape"
   ]
  },
  {
   "cell_type": "code",
   "execution_count": 6,
   "id": "1a00eced-1e44-47f1-8ff8-a75d160c5ad5",
   "metadata": {},
   "outputs": [
    {
     "data": {
      "text/plain": [
       "PassengerId      0\n",
       "Survived         0\n",
       "Pclass           0\n",
       "Name             0\n",
       "Sex              0\n",
       "Age            177\n",
       "SibSp            0\n",
       "Parch            0\n",
       "Ticket           0\n",
       "Fare             0\n",
       "Cabin          687\n",
       "Embarked         2\n",
       "dtype: int64"
      ]
     },
     "execution_count": 6,
     "metadata": {},
     "output_type": "execute_result"
    }
   ],
   "source": [
    "train_df.isna().sum()"
   ]
  },
  {
   "cell_type": "code",
   "execution_count": 7,
   "id": "8255f16a-ee67-4357-8faa-6491512f8abf",
   "metadata": {},
   "outputs": [],
   "source": [
    "# EDA -> Exploratory Data Analysis"
   ]
  },
  {
   "cell_type": "code",
   "execution_count": 8,
   "id": "4f1398b2-5ea3-4a9c-b3ac-037ec003307b",
   "metadata": {},
   "outputs": [
    {
     "data": {
      "text/plain": [
       "<Axes: ylabel='Density'>"
      ]
     },
     "execution_count": 8,
     "metadata": {},
     "output_type": "execute_result"
    },
    {
     "data": {
      "image/png": "[encoded data removed]",
      "text/plain": [
       "<Figure size 640x480 with 1 Axes>"
      ]
     },
     "metadata": {},
     "output_type": "display_data"
    }
   ],
   "source": [
    "train_df['Age'].hist(bins = 25, density = True)\n",
    "train_df['Age'].plot(kind = 'density', color='red')"
   ]
  },
  {
   "cell_type": "code",
   "execution_count": 9,
   "id": "e3efb4b4-cdc9-46ed-b95e-025bcd7cdd4d",
   "metadata": {},
   "outputs": [],
   "source": [
    "# Gaussian Distribution is followed"
   ]
  },
  {
   "cell_type": "code",
   "execution_count": 10,
   "id": "4deb860b-877d-4fef-9077-b89f0137a76a",
   "metadata": {},
   "outputs": [
    {
     "data": {
      "text/plain": [
       "<Axes: xlabel='Embarked', ylabel='count'>"
      ]
     },
     "execution_count": 10,
     "metadata": {},
     "output_type": "execute_result"
    },
    {
     "data": {
      "image/png": "[encoded data removed]",
      "text/plain": [
       "<Figure size 640x480 with 1 Axes>"
      ]
     },
     "metadata": {},
     "output_type": "display_data"
    }
   ],
   "source": [
    "import seaborn as sns\n",
    "sns.countplot(x = 'Embarked', data = train_df)"
   ]
  },
  {
   "cell_type": "code",
   "execution_count": 11,
   "id": "15d8ba2b-00ad-466a-a15d-16935189e68e",
   "metadata": {},
   "outputs": [],
   "source": [
    "all_data = train_df.copy()"
   ]
  },
  {
   "cell_type": "code",
   "execution_count": 12,
   "id": "9b9dfa51-7d54-4a35-afc7-b099303b4848",
   "metadata": {},
   "outputs": [],
   "source": [
    "# Graph is saying people with 28 age is more"
   ]
  },
  {
   "cell_type": "code",
   "execution_count": 13,
   "id": "4a497c27-d599-4a3e-a0b4-79cadc8b244a",
   "metadata": {},
   "outputs": [],
   "source": [
    "# We need to recreate the data in place of Nan(Number so great that cannot be store, missing Data)"
   ]
  },
  {
   "cell_type": "code",
   "execution_count": 14,
   "id": "73892b96-33c4-43a5-994d-4fd063c70fae",
   "metadata": {},
   "outputs": [],
   "source": [
    "# We can use mean, median or mode. We'll prefer mean more in these cases. We will be using median in this because in mean of age, floating number will appear."
   ]
  },
  {
   "cell_type": "code",
   "execution_count": 15,
   "id": "e418465a-88f4-4528-96d2-314a7c984acd",
   "metadata": {},
   "outputs": [
    {
     "name": "stderr",
     "output_type": "stream",
     "text": [
      "C:\\Users\\prajwal\\AppData\\Local\\Temp\\ipykernel_11360\\1007164528.py:1: FutureWarning: A value is trying to be set on a copy of a DataFrame or Series through chained assignment using an inplace method.\n",
      "The behavior will change in pandas 3.0. This inplace method will never work because the intermediate object on which we are setting values always behaves as a copy.\n",
      "\n",
      "For example, when doing 'df[col].method(value, inplace=True)', try using 'df.method({col: value}, inplace=True)' or df[col] = df[col].method(value) instead, to perform the operation inplace on the original object.\n",
      "\n",
      "\n",
      "  train_df['Age'].fillna(train_df['Age'].median(), inplace=True )\n"
     ]
    }
   ],
   "source": [
    "train_df['Age'].fillna(train_df['Age'].median(), inplace=True )"
   ]
  },
  {
   "cell_type": "code",
   "execution_count": 16,
   "id": "3e76478e-4f61-4050-805e-8fc14f8783bd",
   "metadata": {},
   "outputs": [],
   "source": [
    "#Filling with train_df median"
   ]
  },
  {
   "cell_type": "code",
   "execution_count": 17,
   "id": "54f3501e-4f30-48d4-8385-deff8cc7cbfb",
   "metadata": {},
   "outputs": [],
   "source": [
    "train_df['Age'] = train_df['Age'].fillna(train_df['Age'].median())"
   ]
  },
  {
   "cell_type": "code",
   "execution_count": 18,
   "id": "fa9e1d5d-1c25-4ef7-aa35-d404fe72d70c",
   "metadata": {},
   "outputs": [
    {
     "data": {
      "text/plain": [
       "<Axes: ylabel='Density'>"
      ]
     },
     "execution_count": 18,
     "metadata": {},
     "output_type": "execute_result"
    },
    {
     "data": {
      "image/png": "[encoded data removed]",
      "text/plain": [
       "<Figure size 640x480 with 1 Axes>"
      ]
     },
     "metadata": {},
     "output_type": "display_data"
    }
   ],
   "source": [
    "train_df['Age'].hist(bins = 25, density = True)\n",
    "train_df['Age'].plot(kind = 'density', color='red')\n",
    "all_data['Age'].hist(bins = 25, density = True)\n",
    "all_data['Age'].plot(kind = 'density', color='green')"
   ]
  },
  {
   "cell_type": "code",
   "execution_count": 19,
   "id": "f22878f6-e70d-4be9-8da5-d40f083923fa",
   "metadata": {},
   "outputs": [
    {
     "data": {
      "text/plain": [
       "PassengerId      0\n",
       "Survived         0\n",
       "Pclass           0\n",
       "Name             0\n",
       "Sex              0\n",
       "Age              0\n",
       "SibSp            0\n",
       "Parch            0\n",
       "Ticket           0\n",
       "Fare             0\n",
       "Cabin          687\n",
       "Embarked         2\n",
       "dtype: int64"
      ]
     },
     "execution_count": 19,
     "metadata": {},
     "output_type": "execute_result"
    }
   ],
   "source": [
    "train_df.isna().sum()"
   ]
  },
  {
   "cell_type": "code",
   "execution_count": 20,
   "id": "8047e85f-5902-474c-a8f3-e3e343fb4831",
   "metadata": {},
   "outputs": [],
   "source": [
    "train_df['Travel_Alone'] = np.where((train_df['SibSp'] + train_df['Parch']) > 0, 0, 1)     # if greater than 0, give 1 else 0\n",
    "# np.where is use to merge operations and also use for other advance operations."
   ]
  },
  {
   "cell_type": "code",
   "execution_count": 21,
   "id": "d9009fec-6267-49d4-bc01-927ed572e19e",
   "metadata": {},
   "outputs": [],
   "source": [
    "# Replacing string data(Cabin)"
   ]
  },
  {
   "cell_type": "code",
   "execution_count": 22,
   "id": "fc6207af-47ee-4521-9969-9410f5359d87",
   "metadata": {},
   "outputs": [],
   "source": [
    "# As there are lots of value unavailable, we will drop the column as it can lead to a lot of human intervention otherwise we will be solving the problem using node(As for string, we prefer this)"
   ]
  },
  {
   "cell_type": "code",
   "execution_count": 23,
   "id": "cebcc08a-4054-4ee2-adb2-2c1ef439fb6d",
   "metadata": {},
   "outputs": [],
   "source": [
    "# We can create 20Percent human intervention only not 80Percent"
   ]
  },
  {
   "cell_type": "code",
   "execution_count": 24,
   "id": "60f4debc-f72c-4269-8c9e-991d0dca3779",
   "metadata": {},
   "outputs": [],
   "source": [
    "train_df.drop('Cabin', inplace = True, axis = 1)   # Axis = 1, means variable is row therefore constant column."
   ]
  },
  {
   "cell_type": "code",
   "execution_count": 25,
   "id": "6537e1a2-d87f-414a-8011-e327d1c931b5",
   "metadata": {},
   "outputs": [
    {
     "data": {
      "text/plain": [
       "PassengerId     0\n",
       "Survived        0\n",
       "Pclass          0\n",
       "Name            0\n",
       "Sex             0\n",
       "Age             0\n",
       "SibSp           0\n",
       "Parch           0\n",
       "Ticket          0\n",
       "Fare            0\n",
       "Embarked        2\n",
       "Travel_Alone    0\n",
       "dtype: int64"
      ]
     },
     "execution_count": 25,
     "metadata": {},
     "output_type": "execute_result"
    }
   ],
   "source": [
    "train_df.isna().sum()\n",
    "# Now we will solve Embarked value"
   ]
  },
  {
   "cell_type": "code",
   "execution_count": 26,
   "id": "411f418b-e704-4179-927d-15f95093eed3",
   "metadata": {},
   "outputs": [
    {
     "name": "stderr",
     "output_type": "stream",
     "text": [
      "C:\\Users\\prajwal\\AppData\\Local\\Temp\\ipykernel_11360\\160697702.py:1: FutureWarning: A value is trying to be set on a copy of a DataFrame or Series through chained assignment using an inplace method.\n",
      "The behavior will change in pandas 3.0. This inplace method will never work because the intermediate object on which we are setting values always behaves as a copy.\n",
      "\n",
      "For example, when doing 'df[col].method(value, inplace=True)', try using 'df.method({col: value}, inplace=True)' or df[col] = df[col].method(value) instead, to perform the operation inplace on the original object.\n",
      "\n",
      "\n",
      "  train_df['Embarked'].fillna(train_df['Embarked'].value_counts().idxmax(), inplace = True)   # Pandas to numpy conversion -> value\n"
     ]
    }
   ],
   "source": [
    "train_df['Embarked'].fillna(train_df['Embarked'].value_counts().idxmax(), inplace = True)   # Pandas to numpy conversion -> value\n",
    "                                                                                            # To count any value -> value_counts \n",
    "                                                                                            # The value which is occuring maximum times we will be using that."
   ]
  },
  {
   "cell_type": "code",
   "execution_count": 27,
   "id": "529343a4-bf66-48af-bcce-002c656a4f42",
   "metadata": {},
   "outputs": [
    {
     "data": {
      "text/plain": [
       "Embarked\n",
       "S    646\n",
       "C    168\n",
       "Q     77\n",
       "Name: count, dtype: int64"
      ]
     },
     "execution_count": 27,
     "metadata": {},
     "output_type": "execute_result"
    }
   ],
   "source": [
    "train_df['Embarked'].value_counts()"
   ]
  },
  {
   "cell_type": "code",
   "execution_count": 28,
   "id": "78d64929-b244-4939-873a-38a36faaf4df",
   "metadata": {},
   "outputs": [
    {
     "data": {
      "text/plain": [
       "'S'"
      ]
     },
     "execution_count": 28,
     "metadata": {},
     "output_type": "execute_result"
    }
   ],
   "source": [
    "train_df['Embarked'].value_counts().idxmax()"
   ]
  },
  {
   "cell_type": "code",
   "execution_count": 29,
   "id": "f9b9993d-69f3-433d-883f-4c3f789b1887",
   "metadata": {},
   "outputs": [],
   "source": [
    "# PassengerId ,name and ticket has no role in Determining result. We will be dropping that."
   ]
  },
  {
   "cell_type": "code",
   "execution_count": 30,
   "id": "5493ccc7-32c9-406d-aa22-077590b130ae",
   "metadata": {},
   "outputs": [],
   "source": [
    "train_df.drop('PassengerId', axis = 1, inplace = True)\n",
    "train_df.drop('Name', axis = 1, inplace = True)\n",
    "train_df.drop('Ticket', axis = 1, inplace = True)\n",
    "train_df.drop('SibSp', axis = 1, inplace = True)\n",
    "train_df.drop('Parch', axis = 1, inplace = True)"
   ]
  },
  {
   "cell_type": "code",
   "execution_count": 31,
   "id": "9608dd84-3968-43fd-9f0b-bae7d7a7f0c0",
   "metadata": {},
   "outputs": [
    {
     "data": {
      "text/html": [
       "<div>\n",
       "<style scoped>\n",
       "    .dataframe tbody tr th:only-of-type {\n",
       "        vertical-align: middle;\n",
       "    }\n",
       "\n",
       "    .dataframe tbody tr th {\n",
       "        vertical-align: top;\n",
       "    }\n",
       "\n",
       "    .dataframe thead th {\n",
       "        text-align: right;\n",
       "    }\n",
       "</style>\n",
       "<table border=\"1\" class=\"dataframe\">\n",
       "  <thead>\n",
       "    <tr style=\"text-align: right;\">\n",
       "      <th></th>\n",
       "      <th>Survived</th>\n",
       "      <th>Pclass</th>\n",
       "      <th>Sex</th>\n",
       "      <th>Age</th>\n",
       "      <th>Fare</th>\n",
       "      <th>Embarked</th>\n",
       "      <th>Travel_Alone</th>\n",
       "    </tr>\n",
       "  </thead>\n",
       "  <tbody>\n",
       "    <tr>\n",
       "      <th>0</th>\n",
       "      <td>0</td>\n",
       "      <td>3</td>\n",
       "      <td>male</td>\n",
       "      <td>22.0</td>\n",
       "      <td>7.2500</td>\n",
       "      <td>S</td>\n",
       "      <td>0</td>\n",
       "    </tr>\n",
       "    <tr>\n",
       "      <th>1</th>\n",
       "      <td>1</td>\n",
       "      <td>1</td>\n",
       "      <td>female</td>\n",
       "      <td>38.0</td>\n",
       "      <td>71.2833</td>\n",
       "      <td>C</td>\n",
       "      <td>0</td>\n",
       "    </tr>\n",
       "    <tr>\n",
       "      <th>2</th>\n",
       "      <td>1</td>\n",
       "      <td>3</td>\n",
       "      <td>female</td>\n",
       "      <td>26.0</td>\n",
       "      <td>7.9250</td>\n",
       "      <td>S</td>\n",
       "      <td>1</td>\n",
       "    </tr>\n",
       "    <tr>\n",
       "      <th>3</th>\n",
       "      <td>1</td>\n",
       "      <td>1</td>\n",
       "      <td>female</td>\n",
       "      <td>35.0</td>\n",
       "      <td>53.1000</td>\n",
       "      <td>S</td>\n",
       "      <td>0</td>\n",
       "    </tr>\n",
       "    <tr>\n",
       "      <th>4</th>\n",
       "      <td>0</td>\n",
       "      <td>3</td>\n",
       "      <td>male</td>\n",
       "      <td>35.0</td>\n",
       "      <td>8.0500</td>\n",
       "      <td>S</td>\n",
       "      <td>1</td>\n",
       "    </tr>\n",
       "    <tr>\n",
       "      <th>...</th>\n",
       "      <td>...</td>\n",
       "      <td>...</td>\n",
       "      <td>...</td>\n",
       "      <td>...</td>\n",
       "      <td>...</td>\n",
       "      <td>...</td>\n",
       "      <td>...</td>\n",
       "    </tr>\n",
       "    <tr>\n",
       "      <th>886</th>\n",
       "      <td>0</td>\n",
       "      <td>2</td>\n",
       "      <td>male</td>\n",
       "      <td>27.0</td>\n",
       "      <td>13.0000</td>\n",
       "      <td>S</td>\n",
       "      <td>1</td>\n",
       "    </tr>\n",
       "    <tr>\n",
       "      <th>887</th>\n",
       "      <td>1</td>\n",
       "      <td>1</td>\n",
       "      <td>female</td>\n",
       "      <td>19.0</td>\n",
       "      <td>30.0000</td>\n",
       "      <td>S</td>\n",
       "      <td>1</td>\n",
       "    </tr>\n",
       "    <tr>\n",
       "      <th>888</th>\n",
       "      <td>0</td>\n",
       "      <td>3</td>\n",
       "      <td>female</td>\n",
       "      <td>28.0</td>\n",
       "      <td>23.4500</td>\n",
       "      <td>S</td>\n",
       "      <td>0</td>\n",
       "    </tr>\n",
       "    <tr>\n",
       "      <th>889</th>\n",
       "      <td>1</td>\n",
       "      <td>1</td>\n",
       "      <td>male</td>\n",
       "      <td>26.0</td>\n",
       "      <td>30.0000</td>\n",
       "      <td>C</td>\n",
       "      <td>1</td>\n",
       "    </tr>\n",
       "    <tr>\n",
       "      <th>890</th>\n",
       "      <td>0</td>\n",
       "      <td>3</td>\n",
       "      <td>male</td>\n",
       "      <td>32.0</td>\n",
       "      <td>7.7500</td>\n",
       "      <td>Q</td>\n",
       "      <td>1</td>\n",
       "    </tr>\n",
       "  </tbody>\n",
       "</table>\n",
       "<p>891 rows × 7 columns</p>\n",
       "</div>"
      ],
      "text/plain": [
       "     Survived  Pclass     Sex   Age     Fare Embarked  Travel_Alone\n",
       "0           0       3    male  22.0   7.2500        S             0\n",
       "1           1       1  female  38.0  71.2833        C             0\n",
       "2           1       3  female  26.0   7.9250        S             1\n",
       "3           1       1  female  35.0  53.1000        S             0\n",
       "4           0       3    male  35.0   8.0500        S             1\n",
       "..        ...     ...     ...   ...      ...      ...           ...\n",
       "886         0       2    male  27.0  13.0000        S             1\n",
       "887         1       1  female  19.0  30.0000        S             1\n",
       "888         0       3  female  28.0  23.4500        S             0\n",
       "889         1       1    male  26.0  30.0000        C             1\n",
       "890         0       3    male  32.0   7.7500        Q             1\n",
       "\n",
       "[891 rows x 7 columns]"
      ]
     },
     "execution_count": 31,
     "metadata": {},
     "output_type": "execute_result"
    }
   ],
   "source": [
    "train_df"
   ]
  },
  {
   "cell_type": "code",
   "execution_count": 32,
   "id": "6d7ee72a-21f3-45a1-92e1-a4ade82f97eb",
   "metadata": {},
   "outputs": [],
   "source": [
    "# EDA -> Exploratory Data Analysis"
   ]
  },
  {
   "cell_type": "code",
   "execution_count": 33,
   "id": "0244bf30-eaf3-451c-8f3d-594ae00ebcfb",
   "metadata": {},
   "outputs": [],
   "source": [
    "# Axis of pandas is inverse of numpy"
   ]
  },
  {
   "cell_type": "code",
   "execution_count": 34,
   "id": "568549b7-f118-4053-8eb6-570e4334f8a2",
   "metadata": {},
   "outputs": [],
   "source": [
    "# Using EDA to analysis feature importance"
   ]
  },
  {
   "cell_type": "code",
   "execution_count": 35,
   "id": "c7f2a3a9-3af6-4ad9-980b-e0e6633a8a43",
   "metadata": {},
   "outputs": [],
   "source": [
    "train_df = pd.get_dummies(train_df, columns = ['Sex', 'Embarked'])"
   ]
  },
  {
   "cell_type": "code",
   "execution_count": 36,
   "id": "80caf36b-dd52-4be4-921c-ca0f15df2fe6",
   "metadata": {},
   "outputs": [
    {
     "data": {
      "text/html": [
       "<div>\n",
       "<style scoped>\n",
       "    .dataframe tbody tr th:only-of-type {\n",
       "        vertical-align: middle;\n",
       "    }\n",
       "\n",
       "    .dataframe tbody tr th {\n",
       "        vertical-align: top;\n",
       "    }\n",
       "\n",
       "    .dataframe thead th {\n",
       "        text-align: right;\n",
       "    }\n",
       "</style>\n",
       "<table border=\"1\" class=\"dataframe\">\n",
       "  <thead>\n",
       "    <tr style=\"text-align: right;\">\n",
       "      <th></th>\n",
       "      <th>Survived</th>\n",
       "      <th>Pclass</th>\n",
       "      <th>Age</th>\n",
       "      <th>Fare</th>\n",
       "      <th>Travel_Alone</th>\n",
       "      <th>Sex_female</th>\n",
       "      <th>Sex_male</th>\n",
       "      <th>Embarked_C</th>\n",
       "      <th>Embarked_Q</th>\n",
       "      <th>Embarked_S</th>\n",
       "    </tr>\n",
       "  </thead>\n",
       "  <tbody>\n",
       "    <tr>\n",
       "      <th>0</th>\n",
       "      <td>0</td>\n",
       "      <td>3</td>\n",
       "      <td>22.0</td>\n",
       "      <td>7.2500</td>\n",
       "      <td>0</td>\n",
       "      <td>False</td>\n",
       "      <td>True</td>\n",
       "      <td>False</td>\n",
       "      <td>False</td>\n",
       "      <td>True</td>\n",
       "    </tr>\n",
       "    <tr>\n",
       "      <th>1</th>\n",
       "      <td>1</td>\n",
       "      <td>1</td>\n",
       "      <td>38.0</td>\n",
       "      <td>71.2833</td>\n",
       "      <td>0</td>\n",
       "      <td>True</td>\n",
       "      <td>False</td>\n",
       "      <td>True</td>\n",
       "      <td>False</td>\n",
       "      <td>False</td>\n",
       "    </tr>\n",
       "    <tr>\n",
       "      <th>2</th>\n",
       "      <td>1</td>\n",
       "      <td>3</td>\n",
       "      <td>26.0</td>\n",
       "      <td>7.9250</td>\n",
       "      <td>1</td>\n",
       "      <td>True</td>\n",
       "      <td>False</td>\n",
       "      <td>False</td>\n",
       "      <td>False</td>\n",
       "      <td>True</td>\n",
       "    </tr>\n",
       "    <tr>\n",
       "      <th>3</th>\n",
       "      <td>1</td>\n",
       "      <td>1</td>\n",
       "      <td>35.0</td>\n",
       "      <td>53.1000</td>\n",
       "      <td>0</td>\n",
       "      <td>True</td>\n",
       "      <td>False</td>\n",
       "      <td>False</td>\n",
       "      <td>False</td>\n",
       "      <td>True</td>\n",
       "    </tr>\n",
       "    <tr>\n",
       "      <th>4</th>\n",
       "      <td>0</td>\n",
       "      <td>3</td>\n",
       "      <td>35.0</td>\n",
       "      <td>8.0500</td>\n",
       "      <td>1</td>\n",
       "      <td>False</td>\n",
       "      <td>True</td>\n",
       "      <td>False</td>\n",
       "      <td>False</td>\n",
       "      <td>True</td>\n",
       "    </tr>\n",
       "    <tr>\n",
       "      <th>...</th>\n",
       "      <td>...</td>\n",
       "      <td>...</td>\n",
       "      <td>...</td>\n",
       "      <td>...</td>\n",
       "      <td>...</td>\n",
       "      <td>...</td>\n",
       "      <td>...</td>\n",
       "      <td>...</td>\n",
       "      <td>...</td>\n",
       "      <td>...</td>\n",
       "    </tr>\n",
       "    <tr>\n",
       "      <th>886</th>\n",
       "      <td>0</td>\n",
       "      <td>2</td>\n",
       "      <td>27.0</td>\n",
       "      <td>13.0000</td>\n",
       "      <td>1</td>\n",
       "      <td>False</td>\n",
       "      <td>True</td>\n",
       "      <td>False</td>\n",
       "      <td>False</td>\n",
       "      <td>True</td>\n",
       "    </tr>\n",
       "    <tr>\n",
       "      <th>887</th>\n",
       "      <td>1</td>\n",
       "      <td>1</td>\n",
       "      <td>19.0</td>\n",
       "      <td>30.0000</td>\n",
       "      <td>1</td>\n",
       "      <td>True</td>\n",
       "      <td>False</td>\n",
       "      <td>False</td>\n",
       "      <td>False</td>\n",
       "      <td>True</td>\n",
       "    </tr>\n",
       "    <tr>\n",
       "      <th>888</th>\n",
       "      <td>0</td>\n",
       "      <td>3</td>\n",
       "      <td>28.0</td>\n",
       "      <td>23.4500</td>\n",
       "      <td>0</td>\n",
       "      <td>True</td>\n",
       "      <td>False</td>\n",
       "      <td>False</td>\n",
       "      <td>False</td>\n",
       "      <td>True</td>\n",
       "    </tr>\n",
       "    <tr>\n",
       "      <th>889</th>\n",
       "      <td>1</td>\n",
       "      <td>1</td>\n",
       "      <td>26.0</td>\n",
       "      <td>30.0000</td>\n",
       "      <td>1</td>\n",
       "      <td>False</td>\n",
       "      <td>True</td>\n",
       "      <td>True</td>\n",
       "      <td>False</td>\n",
       "      <td>False</td>\n",
       "    </tr>\n",
       "    <tr>\n",
       "      <th>890</th>\n",
       "      <td>0</td>\n",
       "      <td>3</td>\n",
       "      <td>32.0</td>\n",
       "      <td>7.7500</td>\n",
       "      <td>1</td>\n",
       "      <td>False</td>\n",
       "      <td>True</td>\n",
       "      <td>False</td>\n",
       "      <td>True</td>\n",
       "      <td>False</td>\n",
       "    </tr>\n",
       "  </tbody>\n",
       "</table>\n",
       "<p>891 rows × 10 columns</p>\n",
       "</div>"
      ],
      "text/plain": [
       "     Survived  Pclass   Age     Fare  Travel_Alone  Sex_female  Sex_male  \\\n",
       "0           0       3  22.0   7.2500             0       False      True   \n",
       "1           1       1  38.0  71.2833             0        True     False   \n",
       "2           1       3  26.0   7.9250             1        True     False   \n",
       "3           1       1  35.0  53.1000             0        True     False   \n",
       "4           0       3  35.0   8.0500             1       False      True   \n",
       "..        ...     ...   ...      ...           ...         ...       ...   \n",
       "886         0       2  27.0  13.0000             1       False      True   \n",
       "887         1       1  19.0  30.0000             1        True     False   \n",
       "888         0       3  28.0  23.4500             0        True     False   \n",
       "889         1       1  26.0  30.0000             1       False      True   \n",
       "890         0       3  32.0   7.7500             1       False      True   \n",
       "\n",
       "     Embarked_C  Embarked_Q  Embarked_S  \n",
       "0         False       False        True  \n",
       "1          True       False       False  \n",
       "2         False       False        True  \n",
       "3         False       False        True  \n",
       "4         False       False        True  \n",
       "..          ...         ...         ...  \n",
       "886       False       False        True  \n",
       "887       False       False        True  \n",
       "888       False       False        True  \n",
       "889        True       False       False  \n",
       "890       False        True       False  \n",
       "\n",
       "[891 rows x 10 columns]"
      ]
     },
     "execution_count": 36,
     "metadata": {},
     "output_type": "execute_result"
    }
   ],
   "source": [
    "train_df"
   ]
  },
  {
   "cell_type": "code",
   "execution_count": 37,
   "id": "aff2dc36-d56d-4f4e-9cdc-a8b6a3c806c6",
   "metadata": {},
   "outputs": [],
   "source": [
    "# Get_Dummies is use to get data in (1,0) from "
   ]
  },
  {
   "cell_type": "code",
   "execution_count": 38,
   "id": "32b4fd80-67e4-4230-80e1-b5aee30de56d",
   "metadata": {},
   "outputs": [],
   "source": [
    "# 1,0 in place of True, False"
   ]
  },
  {
   "cell_type": "code",
   "execution_count": 39,
   "id": "9c908971-ca40-49cc-b40d-efcf5025daed",
   "metadata": {},
   "outputs": [],
   "source": [
    "train_df['Sex_female'] = np.where((train_df['Sex_female']) == True, 1, 0) \n",
    "train_df['Sex_male'] = np.where((train_df['Sex_male']) == True, 1, 0) \n",
    "train_df['Embarked_C'] = np.where((train_df['Embarked_C']) == True, 1, 0) \n",
    "train_df['Embarked_Q'] = np.where((train_df['Embarked_Q']) == True, 1, 0) \n",
    "train_df['Embarked_S'] = np.where((train_df['Embarked_S']) == True, 1, 0) "
   ]
  },
  {
   "cell_type": "code",
   "execution_count": 40,
   "id": "7272534e-c07d-4c1c-85d9-4f6dd8f1be87",
   "metadata": {},
   "outputs": [
    {
     "data": {
      "text/html": [
       "<div>\n",
       "<style scoped>\n",
       "    .dataframe tbody tr th:only-of-type {\n",
       "        vertical-align: middle;\n",
       "    }\n",
       "\n",
       "    .dataframe tbody tr th {\n",
       "        vertical-align: top;\n",
       "    }\n",
       "\n",
       "    .dataframe thead th {\n",
       "        text-align: right;\n",
       "    }\n",
       "</style>\n",
       "<table border=\"1\" class=\"dataframe\">\n",
       "  <thead>\n",
       "    <tr style=\"text-align: right;\">\n",
       "      <th></th>\n",
       "      <th>Survived</th>\n",
       "      <th>Pclass</th>\n",
       "      <th>Age</th>\n",
       "      <th>Fare</th>\n",
       "      <th>Travel_Alone</th>\n",
       "      <th>Sex_female</th>\n",
       "      <th>Sex_male</th>\n",
       "      <th>Embarked_C</th>\n",
       "      <th>Embarked_Q</th>\n",
       "      <th>Embarked_S</th>\n",
       "    </tr>\n",
       "  </thead>\n",
       "  <tbody>\n",
       "    <tr>\n",
       "      <th>0</th>\n",
       "      <td>0</td>\n",
       "      <td>3</td>\n",
       "      <td>22.0</td>\n",
       "      <td>7.2500</td>\n",
       "      <td>0</td>\n",
       "      <td>0</td>\n",
       "      <td>1</td>\n",
       "      <td>0</td>\n",
       "      <td>0</td>\n",
       "      <td>1</td>\n",
       "    </tr>\n",
       "    <tr>\n",
       "      <th>1</th>\n",
       "      <td>1</td>\n",
       "      <td>1</td>\n",
       "      <td>38.0</td>\n",
       "      <td>71.2833</td>\n",
       "      <td>0</td>\n",
       "      <td>1</td>\n",
       "      <td>0</td>\n",
       "      <td>1</td>\n",
       "      <td>0</td>\n",
       "      <td>0</td>\n",
       "    </tr>\n",
       "    <tr>\n",
       "      <th>2</th>\n",
       "      <td>1</td>\n",
       "      <td>3</td>\n",
       "      <td>26.0</td>\n",
       "      <td>7.9250</td>\n",
       "      <td>1</td>\n",
       "      <td>1</td>\n",
       "      <td>0</td>\n",
       "      <td>0</td>\n",
       "      <td>0</td>\n",
       "      <td>1</td>\n",
       "    </tr>\n",
       "    <tr>\n",
       "      <th>3</th>\n",
       "      <td>1</td>\n",
       "      <td>1</td>\n",
       "      <td>35.0</td>\n",
       "      <td>53.1000</td>\n",
       "      <td>0</td>\n",
       "      <td>1</td>\n",
       "      <td>0</td>\n",
       "      <td>0</td>\n",
       "      <td>0</td>\n",
       "      <td>1</td>\n",
       "    </tr>\n",
       "    <tr>\n",
       "      <th>4</th>\n",
       "      <td>0</td>\n",
       "      <td>3</td>\n",
       "      <td>35.0</td>\n",
       "      <td>8.0500</td>\n",
       "      <td>1</td>\n",
       "      <td>0</td>\n",
       "      <td>1</td>\n",
       "      <td>0</td>\n",
       "      <td>0</td>\n",
       "      <td>1</td>\n",
       "    </tr>\n",
       "    <tr>\n",
       "      <th>...</th>\n",
       "      <td>...</td>\n",
       "      <td>...</td>\n",
       "      <td>...</td>\n",
       "      <td>...</td>\n",
       "      <td>...</td>\n",
       "      <td>...</td>\n",
       "      <td>...</td>\n",
       "      <td>...</td>\n",
       "      <td>...</td>\n",
       "      <td>...</td>\n",
       "    </tr>\n",
       "    <tr>\n",
       "      <th>886</th>\n",
       "      <td>0</td>\n",
       "      <td>2</td>\n",
       "      <td>27.0</td>\n",
       "      <td>13.0000</td>\n",
       "      <td>1</td>\n",
       "      <td>0</td>\n",
       "      <td>1</td>\n",
       "      <td>0</td>\n",
       "      <td>0</td>\n",
       "      <td>1</td>\n",
       "    </tr>\n",
       "    <tr>\n",
       "      <th>887</th>\n",
       "      <td>1</td>\n",
       "      <td>1</td>\n",
       "      <td>19.0</td>\n",
       "      <td>30.0000</td>\n",
       "      <td>1</td>\n",
       "      <td>1</td>\n",
       "      <td>0</td>\n",
       "      <td>0</td>\n",
       "      <td>0</td>\n",
       "      <td>1</td>\n",
       "    </tr>\n",
       "    <tr>\n",
       "      <th>888</th>\n",
       "      <td>0</td>\n",
       "      <td>3</td>\n",
       "      <td>28.0</td>\n",
       "      <td>23.4500</td>\n",
       "      <td>0</td>\n",
       "      <td>1</td>\n",
       "      <td>0</td>\n",
       "      <td>0</td>\n",
       "      <td>0</td>\n",
       "      <td>1</td>\n",
       "    </tr>\n",
       "    <tr>\n",
       "      <th>889</th>\n",
       "      <td>1</td>\n",
       "      <td>1</td>\n",
       "      <td>26.0</td>\n",
       "      <td>30.0000</td>\n",
       "      <td>1</td>\n",
       "      <td>0</td>\n",
       "      <td>1</td>\n",
       "      <td>1</td>\n",
       "      <td>0</td>\n",
       "      <td>0</td>\n",
       "    </tr>\n",
       "    <tr>\n",
       "      <th>890</th>\n",
       "      <td>0</td>\n",
       "      <td>3</td>\n",
       "      <td>32.0</td>\n",
       "      <td>7.7500</td>\n",
       "      <td>1</td>\n",
       "      <td>0</td>\n",
       "      <td>1</td>\n",
       "      <td>0</td>\n",
       "      <td>1</td>\n",
       "      <td>0</td>\n",
       "    </tr>\n",
       "  </tbody>\n",
       "</table>\n",
       "<p>891 rows × 10 columns</p>\n",
       "</div>"
      ],
      "text/plain": [
       "     Survived  Pclass   Age     Fare  Travel_Alone  Sex_female  Sex_male  \\\n",
       "0           0       3  22.0   7.2500             0           0         1   \n",
       "1           1       1  38.0  71.2833             0           1         0   \n",
       "2           1       3  26.0   7.9250             1           1         0   \n",
       "3           1       1  35.0  53.1000             0           1         0   \n",
       "4           0       3  35.0   8.0500             1           0         1   \n",
       "..        ...     ...   ...      ...           ...         ...       ...   \n",
       "886         0       2  27.0  13.0000             1           0         1   \n",
       "887         1       1  19.0  30.0000             1           1         0   \n",
       "888         0       3  28.0  23.4500             0           1         0   \n",
       "889         1       1  26.0  30.0000             1           0         1   \n",
       "890         0       3  32.0   7.7500             1           0         1   \n",
       "\n",
       "     Embarked_C  Embarked_Q  Embarked_S  \n",
       "0             0           0           1  \n",
       "1             1           0           0  \n",
       "2             0           0           1  \n",
       "3             0           0           1  \n",
       "4             0           0           1  \n",
       "..          ...         ...         ...  \n",
       "886           0           0           1  \n",
       "887           0           0           1  \n",
       "888           0           0           1  \n",
       "889           1           0           0  \n",
       "890           0           1           0  \n",
       "\n",
       "[891 rows x 10 columns]"
      ]
     },
     "execution_count": 40,
     "metadata": {},
     "output_type": "execute_result"
    }
   ],
   "source": [
    "train_df"
   ]
  },
  {
   "cell_type": "code",
   "execution_count": 41,
   "id": "d9d1f07c-aa56-4467-99f5-a5c91a11f99d",
   "metadata": {},
   "outputs": [
    {
     "data": {
      "text/plain": [
       "<Axes: xlabel='Age', ylabel='Density'>"
      ]
     },
     "execution_count": 41,
     "metadata": {},
     "output_type": "execute_result"
    },
    {
     "data": {
      "image/png": "[encoded data removed]",
      "text/plain": [
       "<Figure size 640x480 with 1 Axes>"
      ]
     },
     "metadata": {},
     "output_type": "display_data"
    }
   ],
   "source": [
    "sns.kdeplot(data = train_df['Age'][train_df.Survived ==1], multiple = 'stack', color = 'pink')\n",
    "sns.kdeplot(data = train_df['Age'][train_df.Survived ==0], multiple = 'stack', color = 'yellow')"
   ]
  },
  {
   "cell_type": "code",
   "execution_count": 42,
   "id": "1afc9f11-e4a8-4ca9-89d0-ee15c92cdea2",
   "metadata": {},
   "outputs": [],
   "source": [
    "# Clear Distribution is seen, which can be followed"
   ]
  },
  {
   "cell_type": "code",
   "execution_count": 43,
   "id": "ca100024-4fca-4c97-9c29-7b91fd57e3c5",
   "metadata": {},
   "outputs": [
    {
     "data": {
      "text/plain": [
       "<Axes: xlabel='Fare', ylabel='Density'>"
      ]
     },
     "execution_count": 43,
     "metadata": {},
     "output_type": "execute_result"
    },
    {
     "data": {
      "image/png": "[encoded data removed]",
      "text/plain": [
       "<Figure size 640x480 with 1 Axes>"
      ]
     },
     "metadata": {},
     "output_type": "display_data"
    }
   ],
   "source": [
    "sns.kdeplot(data = train_df['Fare'][train_df.Survived ==1], multiple = 'stack', color = 'pink')\n",
    "sns.kdeplot(data = train_df['Fare'][train_df.Survived ==0], multiple = 'stack', color = 'yellow')"
   ]
  },
  {
   "cell_type": "code",
   "execution_count": 44,
   "id": "243c4a7f-99c2-4371-9957-609d878173cf",
   "metadata": {},
   "outputs": [
    {
     "data": {
      "text/plain": [
       "<Axes: xlabel='Pclass', ylabel='Survived'>"
      ]
     },
     "execution_count": 44,
     "metadata": {},
     "output_type": "execute_result"
    },
    {
     "data": {
      "image/png": "[encoded data removed]",
      "text/plain": [
       "<Figure size 640x480 with 1 Axes>"
      ]
     },
     "metadata": {},
     "output_type": "display_data"
    }
   ],
   "source": [
    "sns.barplot(data = train_df, x = 'Pclass', y = 'Survived')  # Width of vig represents variance, line depicts mean_value.\n"
   ]
  },
  {
   "cell_type": "code",
   "execution_count": 45,
   "id": "b1ac8cc3-cad5-484a-951e-05cabb053c1f",
   "metadata": {},
   "outputs": [
    {
     "data": {
      "text/plain": [
       "<Axes: xlabel='Sex', ylabel='Pclass'>"
      ]
     },
     "execution_count": 45,
     "metadata": {},
     "output_type": "execute_result"
    },
    {
     "data": {
      "image/png": "[encoded data removed]",
      "text/plain": [
       "<Figure size 640x480 with 1 Axes>"
      ]
     },
     "metadata": {},
     "output_type": "display_data"
    }
   ],
   "source": [
    "sns.barplot(data = all_data, x = 'Sex', y = 'Pclass') "
   ]
  },
  {
   "cell_type": "code",
   "execution_count": 46,
   "id": "bdeb4df1-f909-4e95-bd8c-b1bf96880cac",
   "metadata": {},
   "outputs": [
    {
     "data": {
      "text/plain": [
       "<Axes: xlabel='Embarked', ylabel='Survived'>"
      ]
     },
     "execution_count": 46,
     "metadata": {},
     "output_type": "execute_result"
    },
    {
     "data": {
      "image/png": "[encoded data removed]",
      "text/plain": [
       "<Figure size 640x480 with 1 Axes>"
      ]
     },
     "metadata": {},
     "output_type": "display_data"
    }
   ],
   "source": [
    "sns.barplot(data = all_data, x = 'Embarked', y = 'Survived') "
   ]
  },
  {
   "cell_type": "code",
   "execution_count": 47,
   "id": "8b0d6354-175c-4c1d-a625-f16c83351f25",
   "metadata": {},
   "outputs": [],
   "source": [
    "# 'C' people more suvived -> people who get from France more survived."
   ]
  },
  {
   "cell_type": "code",
   "execution_count": 48,
   "id": "68d251f6-c3a6-4b3e-9a6e-fff51e0b922e",
   "metadata": {},
   "outputs": [
    {
     "data": {
      "text/plain": [
       "<Axes: xlabel='SibSp', ylabel='Survived'>"
      ]
     },
     "execution_count": 48,
     "metadata": {},
     "output_type": "execute_result"
    },
    {
     "data": {
      "image/png": "[encoded data removed]",
      "text/plain": [
       "<Figure size 640x480 with 1 Axes>"
      ]
     },
     "metadata": {},
     "output_type": "display_data"
    }
   ],
   "source": [
    "sns.barplot(data = all_data, x = 'SibSp', y = 'Survived') "
   ]
  },
  {
   "cell_type": "code",
   "execution_count": 49,
   "id": "3a650462-ddaa-468d-b756-b293eb57e456",
   "metadata": {},
   "outputs": [
    {
     "data": {
      "text/plain": [
       "<Axes: xlabel='Parch', ylabel='Survived'>"
      ]
     },
     "execution_count": 49,
     "metadata": {},
     "output_type": "execute_result"
    },
    {
     "data": {
      "image/png": "[encoded data removed]",
      "text/plain": [
       "<Figure size 640x480 with 1 Axes>"
      ]
     },
     "metadata": {},
     "output_type": "display_data"
    }
   ],
   "source": [
    "sns.barplot(data = all_data, x = 'Parch', y = 'Survived') "
   ]
  },
  {
   "cell_type": "code",
   "execution_count": 50,
   "id": "bf4a8219-50aa-4a37-86e5-879f5f034bf8",
   "metadata": {},
   "outputs": [
    {
     "data": {
      "text/plain": [
       "<Axes: xlabel='Travel_Alone', ylabel='Survived'>"
      ]
     },
     "execution_count": 50,
     "metadata": {},
     "output_type": "execute_result"
    },
    {
     "data": {
      "image/png": "[encoded data removed]",
      "text/plain": [
       "<Figure size 640x480 with 1 Axes>"
      ]
     },
     "metadata": {},
     "output_type": "display_data"
    }
   ],
   "source": [
    "sns.barplot(data = train_df, x = 'Travel_Alone', y = 'Survived') "
   ]
  },
  {
   "cell_type": "code",
   "execution_count": 51,
   "id": "4e6840fe-82b2-4594-9933-d39b14df033a",
   "metadata": {},
   "outputs": [
    {
     "data": {
      "text/plain": [
       "<Axes: xlabel='Sex', ylabel='Survived'>"
      ]
     },
     "execution_count": 51,
     "metadata": {},
     "output_type": "execute_result"
    },
    {
     "data": {
      "image/png": "[encoded data removed]",
      "text/plain": [
       "<Figure size 640x480 with 1 Axes>"
      ]
     },
     "metadata": {},
     "output_type": "display_data"
    }
   ],
   "source": [
    "sns.barplot(data = all_data, x = 'Sex', y = 'Survived') "
   ]
  },
  {
   "cell_type": "code",
   "execution_count": 52,
   "id": "f457bb8d-7efb-40df-9cf6-a22e7203dbce",
   "metadata": {},
   "outputs": [
    {
     "data": {
      "text/plain": [
       "<Axes: xlabel='Sex', ylabel='Fare'>"
      ]
     },
     "execution_count": 52,
     "metadata": {},
     "output_type": "execute_result"
    },
    {
     "data": {
      "image/png": "[encoded data removed]",
      "text/plain": [
       "<Figure size 640x480 with 1 Axes>"
      ]
     },
     "metadata": {},
     "output_type": "display_data"
    }
   ],
   "source": [
    "sns.barplot(data = all_data, x = 'Sex', y = 'Fare') "
   ]
  },
  {
   "cell_type": "code",
   "execution_count": 53,
   "id": "38987cc4-c171-4aaa-8b8c-7ec190f13310",
   "metadata": {},
   "outputs": [],
   "source": [
    "# Women spending more money than man."
   ]
  },
  {
   "cell_type": "code",
   "execution_count": 54,
   "id": "72f2c3fe-e9a2-448e-b588-ca3531a7276a",
   "metadata": {},
   "outputs": [],
   "source": [
    "# EDA shows us the hidden pattern"
   ]
  },
  {
   "cell_type": "code",
   "execution_count": 55,
   "id": "b7a9f267-6752-4ce6-8024-36353045211d",
   "metadata": {},
   "outputs": [
    {
     "data": {
      "text/plain": [
       "<Axes: xlabel='Sex', ylabel='SibSp'>"
      ]
     },
     "execution_count": 55,
     "metadata": {},
     "output_type": "execute_result"
    },
    {
     "data": {
      "image/png": "[encoded data removed]",
      "text/plain": [
       "<Figure size 640x480 with 1 Axes>"
      ]
     },
     "metadata": {},
     "output_type": "display_data"
    }
   ],
   "source": [
    "sns.barplot(data = all_data, x = 'Sex', y = 'SibSp') "
   ]
  },
  {
   "cell_type": "code",
   "execution_count": 56,
   "id": "611629db-01ee-4339-b545-4a1375a45e92",
   "metadata": {},
   "outputs": [
    {
     "data": {
      "text/plain": [
       "<Axes: xlabel='Sex', ylabel='Parch'>"
      ]
     },
     "execution_count": 56,
     "metadata": {},
     "output_type": "execute_result"
    },
    {
     "data": {
      "image/png": "[encoded data removed]",
      "text/plain": [
       "<Figure size 640x480 with 1 Axes>"
      ]
     },
     "metadata": {},
     "output_type": "display_data"
    }
   ],
   "source": [
    "sns.barplot(data = all_data, x = 'Sex', y = 'Parch') "
   ]
  },
  {
   "cell_type": "code",
   "execution_count": 57,
   "id": "8f003540-2f43-4126-8e9a-e620aa24322a",
   "metadata": {},
   "outputs": [
    {
     "data": {
      "text/plain": [
       "<Axes: >"
      ]
     },
     "execution_count": 57,
     "metadata": {},
     "output_type": "execute_result"
    },
    {
     "data": {
      "image/png": "[encoded data removed]",
      "text/plain": [
       "<Figure size 640x480 with 2 Axes>"
      ]
     },
     "metadata": {},
     "output_type": "display_data"
    }
   ],
   "source": [
    "sns.heatmap(train_df.corr(), annot = True)"
   ]
  },
  {
   "cell_type": "code",
   "execution_count": 58,
   "id": "db132c70-963d-4c2b-a8e8-3f8b5ec4d67d",
   "metadata": {},
   "outputs": [],
   "source": [
    "label = train_df['Survived']"
   ]
  },
  {
   "cell_type": "code",
   "execution_count": 59,
   "id": "8835b92c-2ee1-49a3-90b9-27bb22cb6e12",
   "metadata": {},
   "outputs": [],
   "source": [
    "train_df.drop(['Survived'], axis = 1, inplace = True)"
   ]
  },
  {
   "cell_type": "code",
   "execution_count": 60,
   "id": "8483d4b6-3564-49ff-a667-6b933e6a4436",
   "metadata": {},
   "outputs": [],
   "source": [
    "train_df = train_df.values\n",
    "label = label.values"
   ]
  },
  {
   "cell_type": "code",
   "execution_count": 61,
   "id": "6dc50b1d-958c-4e1d-b181-85a2b67ab593",
   "metadata": {},
   "outputs": [],
   "source": [
    "ones = np.ones((train_df.shape[0], 1))\n",
    "train_df = np.hstack((ones, train_df))"
   ]
  },
  {
   "cell_type": "code",
   "execution_count": 62,
   "id": "c8ba032f-7f2b-443e-8e4f-51cee9580705",
   "metadata": {},
   "outputs": [],
   "source": [
    "split = 0.8\n",
    "\n",
    "train_X = train_df[:int(split * train_df.shape[0]), :]\n",
    "test_X = train_df[int(split * train_df.shape[0]) :, :]\n",
    "train_Y = label[:int(split * label.shape[0])]\n",
    "test_Y = label[int(split * label.shape[0]):]"
   ]
  },
  {
   "cell_type": "code",
   "execution_count": 63,
   "id": "a5c90af7-3da2-4453-98bb-e7d89b6687c2",
   "metadata": {},
   "outputs": [
    {
     "name": "stdout",
     "output_type": "stream",
     "text": [
      "(712, 10) (179, 10) (712,) (179,)\n"
     ]
    }
   ],
   "source": [
    "print(train_X.shape, test_X.shape, train_Y.shape, test_Y.shape)"
   ]
  },
  {
   "cell_type": "code",
   "execution_count": 64,
   "id": "e7c58a42-5a92-45bc-a880-b9d1130c0f2e",
   "metadata": {},
   "outputs": [],
   "source": [
    "def hypothesis(X, weights):\n",
    "    return 1 / (1+np.exp(-1*np.dot(X, weights)))"
   ]
  },
  {
   "cell_type": "code",
   "execution_count": 65,
   "id": "698aaf34-bfee-4208-ab85-1e8d97e71b13",
   "metadata": {},
   "outputs": [],
   "source": [
    "def loss_func (X, weights, Y):\n",
    "    Y_pred = hypothesis(X,weights)\n",
    "    loss = np.mean(Y * np.log(Y_pred) + (1-Y) * np.log(1-Y_pred))\n",
    "    return -1 * loss"
   ]
  },
  {
   "cell_type": "code",
   "execution_count": 66,
   "id": "71c096d8-3646-4dce-8702-009401fa5e99",
   "metadata": {},
   "outputs": [],
   "source": [
    "def gradient(X, Y, weight):\n",
    "    y_pred = hypothesis(X, weight)\n",
    "    grad = np.dot(X.T, (Y - y_pred))\n",
    "    \n",
    "    return grad/X.shape[0]"
   ]
  },
  {
   "cell_type": "code",
   "execution_count": 71,
   "id": "7a8d3e1e-bcec-47e9-839f-0d4b5adb6c90",
   "metadata": {},
   "outputs": [],
   "source": [
    "def gradient_descent(X, Y):\n",
    "    weights = np.zeros((X.shape[1], ))\n",
    "    lr_rate = 0.003\n",
    "    loss_epoch = []\n",
    "\n",
    "    epochs = 10000\n",
    "    \n",
    "    for i in range(epochs):\n",
    "        grad = gradient(X, Y, weights)\n",
    "        loss_epoch.append(loss_func(X, weights, Y))\n",
    "        weights = weights + lr_rate * grad\n",
    "\n",
    "    return weights, loss_epoch"
   ]
  },
  {
   "cell_type": "code",
   "execution_count": 72,
   "id": "a8d8723b-c704-49c8-af5d-b3fc102c22e6",
   "metadata": {},
   "outputs": [
    {
     "name": "stdout",
     "output_type": "stream",
     "text": [
      "1.6026992797851562\n"
     ]
    }
   ],
   "source": [
    "import time\n",
    "start = time.time()\n",
    "weights, loss_epoch = gradient_descent(train_X, train_Y)\n",
    "print(time.time() - start)"
   ]
  },
  {
   "cell_type": "code",
   "execution_count": 73,
   "id": "8129c65b-c9b6-471a-a02b-5cc4c424c3dd",
   "metadata": {},
   "outputs": [
    {
     "data": {
      "text/plain": [
       "[0.6931471805599453,\n",
       " 0.6536101337120834,\n",
       " 0.6428701288201245,\n",
       " 0.6390146703682131,\n",
       " 0.6372879253982792,\n",
       " 0.636437501039753,\n",
       " 0.6358918492851912,\n",
       " 0.6355648918389342,\n",
       " 0.6353204641029938,\n",
       " 0.6351376641516024,\n",
       " 0.6349805737206655,\n",
       " 0.6348401519026255,\n",
       " 0.6347073086325824,\n",
       " 0.6345789295304907,\n",
       " 0.6344527570547162,\n",
       " 0.6343278714390873,\n",
       " 0.6342037112314672,\n",
       " 0.6340800242040207,\n",
       " 0.6339566693404102,\n",
       " 0.6338335795592356,\n",
       " 0.633710718852014,\n",
       " 0.6335880693782124,\n",
       " 0.6334656216045654,\n",
       " 0.633343370554357,\n",
       " 0.6332213134303926,\n",
       " 0.6330994485964005,\n",
       " 0.6329777749839305,\n",
       " 0.6328562918246299,\n",
       " 0.632734998498109,\n",
       " 0.6326138944631051,\n",
       " 0.6324929792173748,\n",
       " 0.6323722522804506,\n",
       " 0.6322517131826951,\n",
       " 0.6321313614611871,\n",
       " 0.6320111966565795,\n",
       " 0.6318912183122259,\n",
       " 0.6317714259732081,\n",
       " 0.6316518191862123,\n",
       " 0.6315323974991954,\n",
       " 0.6314131604614063,\n",
       " 0.6312941076232568,\n",
       " 0.6311752385363549,\n",
       " 0.6310565527534481,\n",
       " 0.6309380498284458,\n",
       " 0.6308197293163923,\n",
       " 0.630701590773479,\n",
       " 0.63058363375703,\n",
       " 0.6304658578255075,\n",
       " 0.6303482625385044,\n",
       " 0.6302308474567458,\n",
       " 0.6301136121420844,\n",
       " 0.6299965561574989,\n",
       " 0.6298796790670932,\n",
       " 0.6297629804360928,\n",
       " 0.6296464598308431,\n",
       " 0.629530116818808,\n",
       " 0.6294139509685666,\n",
       " 0.6292979618498125,\n",
       " 0.6291821490333502,\n",
       " 0.6290665120910945,\n",
       " 0.6289510505960674,\n",
       " 0.6288357641223957,\n",
       " 0.6287206522453103,\n",
       " 0.6286057145411426,\n",
       " 0.6284909505873232,\n",
       " 0.6283763599623798,\n",
       " 0.6282619422459346,\n",
       " 0.6281476970187023,\n",
       " 0.6280336238624886,\n",
       " 0.6279197223601872,\n",
       " 0.6278059920957783,\n",
       " 0.627692432654326,\n",
       " 0.6275790436219765,\n",
       " 0.6274658245859561,\n",
       " 0.6273527751345687,\n",
       " 0.6272398948571934,\n",
       " 0.6271271833442836,\n",
       " 0.6270146401873634,\n",
       " 0.6269022649790262,\n",
       " 0.6267900573129328,\n",
       " 0.6266780167838084,\n",
       " 0.6265661429874413,\n",
       " 0.6264544355206801,\n",
       " 0.6263428939814327,\n",
       " 0.6262315179686623,\n",
       " 0.6261203070823869,\n",
       " 0.6260092609236766,\n",
       " 0.6258983790946506,\n",
       " 0.6257876611984772,\n",
       " 0.6256771068393691,\n",
       " 0.6255667156225829,\n",
       " 0.6254564871544166,\n",
       " 0.6253464210422071,\n",
       " 0.6252365168943284,\n",
       " 0.6251267743201893,\n",
       " 0.6250171929302315,\n",
       " 0.6249077723359268,\n",
       " 0.6247985121497756,\n",
       " 0.6246894119853047,\n",
       " 0.6245804714570646,\n",
       " 0.6244716901806279,\n",
       " 0.624363067772587,\n",
       " 0.6242546038505516,\n",
       " 0.6241462980331474,\n",
       " 0.6240381499400126,\n",
       " 0.6239301591917972,\n",
       " 0.6238223254101597,\n",
       " 0.6237146482177657,\n",
       " 0.6236071272382854,\n",
       " 0.6234997620963914,\n",
       " 0.6233925524177564,\n",
       " 0.623285497829052,\n",
       " 0.6231785979579451,\n",
       " 0.6230718524330967,\n",
       " 0.6229652608841597,\n",
       " 0.6228588229417763,\n",
       " 0.6227525382375761,\n",
       " 0.6226464064041742,\n",
       " 0.6225404270751685,\n",
       " 0.6224345998851383,\n",
       " 0.6223289244696407,\n",
       " 0.6222234004652106,\n",
       " 0.6221180275093566,\n",
       " 0.62201280524056,\n",
       " 0.621907733298272,\n",
       " 0.6218028113229122,\n",
       " 0.6216980389558655,\n",
       " 0.6215934158394811,\n",
       " 0.6214889416170695,\n",
       " 0.6213846159329006,\n",
       " 0.6212804384322017,\n",
       " 0.6211764087611551,\n",
       " 0.6210725265668963,\n",
       " 0.6209687914975113,\n",
       " 0.6208652032020352,\n",
       " 0.6207617613304495,\n",
       " 0.6206584655336799,\n",
       " 0.6205553154635947,\n",
       " 0.6204523107730021,\n",
       " 0.6203494511156487,\n",
       " 0.6202467361462164,\n",
       " 0.6201441655203213,\n",
       " 0.6200417388945108,\n",
       " 0.6199394559262617,\n",
       " 0.6198373162739785,\n",
       " 0.6197353195969909,\n",
       " 0.6196334655555511,\n",
       " 0.619531753810833,\n",
       " 0.6194301840249287,\n",
       " 0.6193287558608472,\n",
       " 0.6192274689825122,\n",
       " 0.6191263230547599,\n",
       " 0.6190253177433364,\n",
       " 0.6189244527148965,\n",
       " 0.6188237276370008,\n",
       " 0.618723142178114,\n",
       " 0.6186226960076026,\n",
       " 0.6185223887957327,\n",
       " 0.6184222202136685,\n",
       " 0.6183221899334694,\n",
       " 0.6182222976280881,\n",
       " 0.6181225429713688,\n",
       " 0.6180229256380451,\n",
       " 0.6179234453037373,\n",
       " 0.6178241016449509,\n",
       " 0.6177248943390744,\n",
       " 0.617625823064377,\n",
       " 0.6175268875000067,\n",
       " 0.6174280873259881,\n",
       " 0.6173294222232202,\n",
       " 0.6172308918734746,\n",
       " 0.6171324959593932,\n",
       " 0.6170342341644863,\n",
       " 0.6169361061731302,\n",
       " 0.6168381116705656,\n",
       " 0.6167402503428947,\n",
       " 0.6166425218770804,\n",
       " 0.6165449259609426,\n",
       " 0.6164474622831578,\n",
       " 0.6163501305332559,\n",
       " 0.6162529304016184,\n",
       " 0.6161558615794767,\n",
       " 0.6160589237589091,\n",
       " 0.6159621166328403,\n",
       " 0.6158654398950376,\n",
       " 0.6157688932401102,\n",
       " 0.6156724763635063,\n",
       " 0.6155761889615115,\n",
       " 0.6154800307312466,\n",
       " 0.6153840013706654,\n",
       " 0.615288100578553,\n",
       " 0.6151923280545237,\n",
       " 0.6150966834990182,\n",
       " 0.6150011666133032,\n",
       " 0.6149057770994675,\n",
       " 0.614810514660421,\n",
       " 0.6147153789998927,\n",
       " 0.6146203698224285,\n",
       " 0.6145254868333889,\n",
       " 0.6144307297389474,\n",
       " 0.6143360982460881,\n",
       " 0.6142415920626042,\n",
       " 0.6141472108970952,\n",
       " 0.6140529544589658,\n",
       " 0.6139588224584233,\n",
       " 0.6138648146064755,\n",
       " 0.6137709306149293,\n",
       " 0.6136771701963879,\n",
       " 0.6135835330642497,\n",
       " 0.6134900189327057,\n",
       " 0.6133966275167372,\n",
       " 0.6133033585321148,\n",
       " 0.6132102116953955,\n",
       " 0.6131171867239212,\n",
       " 0.6130242833358168,\n",
       " 0.6129315012499876,\n",
       " 0.612838840186118,\n",
       " 0.6127462998646692,\n",
       " 0.612653880006877,\n",
       " 0.6125615803347509,\n",
       " 0.6124694005710705,\n",
       " 0.6123773404393846,\n",
       " 0.6122853996640093,\n",
       " 0.6121935779700256,\n",
       " 0.6121018750832776,\n",
       " 0.6120102907303704,\n",
       " 0.6119188246386689,\n",
       " 0.6118274765362942,\n",
       " 0.6117362461521241,\n",
       " 0.6116451332157886,\n",
       " 0.6115541374576697,\n",
       " 0.6114632586088989,\n",
       " 0.6113724964013552,\n",
       " 0.6112818505676629,\n",
       " 0.611191320841191,\n",
       " 0.6111009069560494,\n",
       " 0.611010608647088,\n",
       " 0.6109204256498949,\n",
       " 0.6108303577007944,\n",
       " 0.6107404045368447,\n",
       " 0.6106505658958363,\n",
       " 0.61056084151629,\n",
       " 0.6104712311374552,\n",
       " 0.6103817344993074,\n",
       " 0.6102923513425477,\n",
       " 0.6102030814085988,\n",
       " 0.610113924439605,\n",
       " 0.6100248801784294,\n",
       " 0.6099359483686523,\n",
       " 0.6098471287545689,\n",
       " 0.6097584210811883,\n",
       " 0.6096698250942305,\n",
       " 0.6095813405401255,\n",
       " 0.6094929671660108,\n",
       " 0.60940470471973,\n",
       " 0.6093165529498308,\n",
       " 0.6092285116055626,\n",
       " 0.6091405804368756,\n",
       " 0.6090527591944181,\n",
       " 0.6089650476295354,\n",
       " 0.6088774454942673,\n",
       " 0.6087899525413467,\n",
       " 0.6087025685241975,\n",
       " 0.6086152931969327,\n",
       " 0.6085281263143532,\n",
       " 0.608441067631945,\n",
       " 0.6083541169058784,\n",
       " 0.6082672738930051,\n",
       " 0.6081805383508575,\n",
       " 0.608093910037646,\n",
       " 0.6080073887122576,\n",
       " 0.6079209741342543,\n",
       " 0.6078346660638703,\n",
       " 0.6077484642620118,\n",
       " 0.6076623684902538,\n",
       " 0.6075763785108388,\n",
       " 0.6074904940866754,\n",
       " 0.6074047149813359,\n",
       " 0.6073190409590548,\n",
       " 0.6072334717847268,\n",
       " 0.6071480072239057,\n",
       " 0.6070626470428019,\n",
       " 0.6069773910082806,\n",
       " 0.6068922388878609,\n",
       " 0.6068071904497127,\n",
       " 0.6067222454626564,\n",
       " 0.6066374036961598,\n",
       " 0.6065526649203377,\n",
       " 0.6064680289059485,\n",
       " 0.6063834954243944,\n",
       " 0.6062990642477178,\n",
       " 0.6062147351486009,\n",
       " 0.6061305079003633,\n",
       " 0.6060463822769604,\n",
       " 0.6059623580529817,\n",
       " 0.6058784350036491,\n",
       " 0.6057946129048155,\n",
       " 0.605710891532962,\n",
       " 0.6056272706651976,\n",
       " 0.6055437500792565,\n",
       " 0.6054603295534967,\n",
       " 0.6053770088668985,\n",
       " 0.6052937877990624,\n",
       " 0.6052106661302076,\n",
       " 0.6051276436411706,\n",
       " 0.6050447201134028,\n",
       " 0.6049618953289695,\n",
       " 0.604879169070548,\n",
       " 0.6047965411214256,\n",
       " 0.6047140112654983,\n",
       " 0.6046315792872693,\n",
       " 0.6045492449718467,\n",
       " 0.6044670081049422,\n",
       " 0.6043848684728697,\n",
       " 0.604302825862543,\n",
       " 0.6042208800614747,\n",
       " 0.6041390308577744,\n",
       " 0.6040572780401472,\n",
       " 0.6039756213978911,\n",
       " 0.6038940607208969,\n",
       " 0.6038125957996454,\n",
       " 0.6037312264252064,\n",
       " 0.6036499523892364,\n",
       " 0.6035687734839779,\n",
       " 0.6034876895022568,\n",
       " 0.6034067002374816,\n",
       " 0.603325805483641,\n",
       " 0.6032450050353033,\n",
       " 0.6031642986876136,\n",
       " 0.6030836862362934,\n",
       " 0.6030031674776375,\n",
       " 0.6029227422085144,\n",
       " 0.6028424102263625,\n",
       " 0.6027621713291906,\n",
       " 0.6026820253155747,\n",
       " 0.6026019719846569,\n",
       " 0.6025220111361446,\n",
       " 0.6024421425703076,\n",
       " 0.6023623660879776,\n",
       " 0.6022826814905459,\n",
       " 0.6022030885799624,\n",
       " 0.6021235871587338,\n",
       " 0.6020441770299219,\n",
       " 0.601964857997142,\n",
       " 0.6018856298645621,\n",
       " 0.6018064924368999,\n",
       " 0.6017274455194228,\n",
       " 0.6016484889179454,\n",
       " 0.6015696224388283,\n",
       " 0.6014908458889765,\n",
       " 0.6014121590758376,\n",
       " 0.6013335618074009,\n",
       " 0.6012550538921952,\n",
       " 0.6011766351392881,\n",
       " 0.6010983053582832,\n",
       " 0.6010200643593199,\n",
       " 0.6009419119530709,\n",
       " 0.6008638479507417,\n",
       " 0.600785872164068,\n",
       " 0.6007079844053148,\n",
       " 0.6006301844872752,\n",
       " 0.6005524722232681,\n",
       " 0.6004748474271373,\n",
       " 0.6003973099132498,\n",
       " 0.6003198594964942,\n",
       " 0.6002424959922797,\n",
       " 0.6001652192165342,\n",
       " 0.6000880289857027,\n",
       " 0.6000109251167463,\n",
       " 0.5999339074271404,\n",
       " 0.5998569757348732,\n",
       " 0.5997801298584448,\n",
       " 0.5997033696168644,\n",
       " 0.5996266948296509,\n",
       " 0.5995501053168296,\n",
       " 0.5994736008989314,\n",
       " 0.5993971813969917,\n",
       " 0.5993208466325487,\n",
       " 0.5992445964276415,\n",
       " 0.5991684306048097,\n",
       " 0.5990923489870911,\n",
       " 0.5990163513980202,\n",
       " 0.5989404376616276,\n",
       " 0.5988646076024382,\n",
       " 0.5987888610454691,\n",
       " 0.5987131978162293,\n",
       " 0.5986376177407177,\n",
       " 0.5985621206454214,\n",
       " 0.5984867063573149,\n",
       " 0.5984113747038587,\n",
       " 0.5983361255129974,\n",
       " 0.5982609586131584,\n",
       " 0.5981858738332513,\n",
       " 0.598110871002665,\n",
       " 0.5980359499512682,\n",
       " 0.5979611105094063,\n",
       " 0.5978863525079009,\n",
       " 0.5978116757780488,\n",
       " 0.5977370801516194,\n",
       " 0.5976625654608548,\n",
       " 0.597588131538467,\n",
       " 0.5975137782176377,\n",
       " 0.5974395053320164,\n",
       " 0.597365312715719,\n",
       " 0.5972912002033267,\n",
       " 0.5972171676298843,\n",
       " 0.5971432148308998,\n",
       " 0.5970693416423416,\n",
       " 0.5969955479006382,\n",
       " 0.5969218334426767,\n",
       " 0.5968481981058013,\n",
       " 0.596774641727812,\n",
       " 0.5967011641469635,\n",
       " 0.5966277652019635,\n",
       " 0.5965544447319715,\n",
       " 0.596481202576598,\n",
       " 0.5964080385759023,\n",
       " 0.5963349525703923,\n",
       " 0.5962619444010218,\n",
       " 0.5961890139091904,\n",
       " 0.5961161609367418,\n",
       " 0.5960433853259625,\n",
       " 0.59597068691958,\n",
       " 0.5958980655607629,\n",
       " 0.595825521093118,\n",
       " 0.59575305336069,\n",
       " 0.5956806622079598,\n",
       " 0.595608347479844,\n",
       " 0.5955361090216922,\n",
       " 0.5954639466792871,\n",
       " 0.5953918602988427,\n",
       " 0.595319849727003,\n",
       " 0.5952479148108405,\n",
       " 0.5951760553978556,\n",
       " 0.5951042713359748,\n",
       " 0.5950325624735497,\n",
       " 0.5949609286593558,\n",
       " 0.594889369742591,\n",
       " 0.5948178855728747,\n",
       " 0.5947464760002463,\n",
       " 0.594675140875164,\n",
       " 0.594603880048504,\n",
       " 0.5945326933715581,\n",
       " 0.5944615806960343,\n",
       " 0.5943905418740537,\n",
       " 0.594319576758151,\n",
       " 0.5942486852012716,\n",
       " 0.594177867056772,\n",
       " 0.5941071221784173,\n",
       " 0.5940364504203809,\n",
       " 0.5939658516372427,\n",
       " 0.5938953256839882,\n",
       " 0.5938248724160075,\n",
       " 0.5937544916890933,\n",
       " 0.5936841833594411,\n",
       " 0.5936139472836464,\n",
       " 0.5935437833187048,\n",
       " 0.5934736913220101,\n",
       " 0.5934036711513536,\n",
       " 0.5933337226649228,\n",
       " 0.5932638457212993,\n",
       " 0.5931940401794596,\n",
       " 0.5931243058987722,\n",
       " 0.593054642738997,\n",
       " 0.5929850505602846,\n",
       " 0.5929155292231743,\n",
       " 0.5928460785885935,\n",
       " 0.5927766985178569,\n",
       " 0.5927073888726642,\n",
       " 0.5926381495151002,\n",
       " 0.5925689803076328,\n",
       " 0.5924998811131127,\n",
       " 0.5924308517947712,\n",
       " 0.5923618922162202,\n",
       " 0.5922930022414495,\n",
       " 0.5922241817348282,\n",
       " 0.5921554305611009,\n",
       " 0.5920867485853882,\n",
       " 0.5920181356731852,\n",
       " 0.5919495916903601,\n",
       " 0.5918811165031538,\n",
       " 0.5918127099781778,\n",
       " 0.5917443719824139,\n",
       " 0.5916761023832132,\n",
       " 0.5916079010482939,\n",
       " 0.5915397678457412,\n",
       " 0.5914717026440067,\n",
       " 0.5914037053119056,\n",
       " 0.591335775718617,\n",
       " 0.5912679137336825,\n",
       " 0.5912001192270049,\n",
       " 0.5911323920688475,\n",
       " 0.5910647321298325,\n",
       " 0.5909971392809404,\n",
       " 0.5909296133935089,\n",
       " 0.5908621543392315,\n",
       " 0.5907947619901567,\n",
       " 0.590727436218687,\n",
       " 0.5906601768975774,\n",
       " 0.5905929838999354,\n",
       " 0.5905258570992185,\n",
       " 0.5904587963692342,\n",
       " 0.5903918015841388,\n",
       " 0.590324872618436,\n",
       " 0.5902580093469763,\n",
       " 0.5901912116449556,\n",
       " 0.5901244793879142,\n",
       " 0.5900578124517364,\n",
       " 0.5899912107126482,\n",
       " 0.5899246740472178,\n",
       " 0.5898582023323535,\n",
       " 0.5897917954453031,\n",
       " 0.5897254532636526,\n",
       " 0.5896591756653256,\n",
       " 0.589592962528582,\n",
       " 0.5895268137320171,\n",
       " 0.5894607291545606,\n",
       " 0.5893947086754757,\n",
       " 0.5893287521743579,\n",
       " 0.589262859531134,\n",
       " 0.5891970306260611,\n",
       " 0.5891312653397262,\n",
       " 0.5890655635530441,\n",
       " 0.5889999251472576,\n",
       " 0.5889343500039358,\n",
       " 0.5888688380049731,\n",
       " 0.5888033890325886,\n",
       " 0.5887380029693248,\n",
       " 0.588672679698047,\n",
       " 0.588607419101942,\n",
       " 0.5885422210645171,\n",
       " 0.5884770854695998,\n",
       " 0.5884120122013355,\n",
       " 0.5883470011441883,\n",
       " 0.5882820521829383,\n",
       " 0.5882171652026821,\n",
       " 0.588152340088831,\n",
       " 0.5880875767271101,\n",
       " 0.5880228750035578,\n",
       " 0.5879582348045245,\n",
       " 0.5878936560166718,\n",
       " 0.5878291385269715,\n",
       " 0.5877646822227047,\n",
       " 0.587700286991461,\n",
       " 0.5876359527211373,\n",
       " 0.5875716792999371,\n",
       " 0.5875074666163697,\n",
       " 0.5874433145592484,\n",
       " 0.5873792230176911,\n",
       " 0.5873151918811181,\n",
       " 0.5872512210392518,\n",
       " 0.5871873103821155,\n",
       " 0.587123459800033,\n",
       " 0.587059669183627,\n",
       " 0.5869959384238185,\n",
       " 0.586932267411826,\n",
       " 0.5868686560391649,\n",
       " 0.5868051041976459,\n",
       " 0.5867416117793742,\n",
       " 0.5866781786767494,\n",
       " 0.5866148047824642,\n",
       " 0.5865514899895028,\n",
       " 0.5864882341911409,\n",
       " 0.586425037280945,\n",
       " 0.5863618991527701,\n",
       " 0.5862988197007609,\n",
       " 0.5862357988193492,\n",
       " 0.5861728364032537,\n",
       " 0.5861099323474793,\n",
       " 0.5860470865473159,\n",
       " 0.5859842988983378,\n",
       " 0.5859215692964029,\n",
       " 0.5858588976376513,\n",
       " 0.5857962838185048,\n",
       " 0.5857337277356668,\n",
       " 0.5856712292861196,\n",
       " 0.5856087883671257,\n",
       " 0.5855464048762256,\n",
       " 0.5854840787112368,\n",
       " 0.5854218097702544,\n",
       " 0.5853595979516487,\n",
       " 0.5852974431540651,\n",
       " 0.5852353452764232,\n",
       " 0.5851733042179159,\n",
       " 0.585111319878009,\n",
       " 0.5850493921564394,\n",
       " 0.584987520953215,\n",
       " 0.5849257061686145,\n",
       " 0.5848639477031847,\n",
       " 0.5848022454577416,\n",
       " 0.5847405993333687,\n",
       " 0.5846790092314161,\n",
       " 0.5846174750535,\n",
       " 0.584555996701502,\n",
       " 0.5844945740775678,\n",
       " 0.5844332070841067,\n",
       " 0.5843718956237912,\n",
       " 0.5843106395995553,\n",
       " 0.5842494389145947,\n",
       " 0.584188293472365,\n",
       " 0.584127203176582,\n",
       " 0.5840661679312198,\n",
       " 0.5840051876405111,\n",
       " 0.5839442622089457,\n",
       " 0.5838833915412697,\n",
       " 0.5838225755424851,\n",
       " 0.5837618141178489,\n",
       " 0.5837011071728724,\n",
       " 0.5836404546133199,\n",
       " 0.5835798563452088,\n",
       " 0.5835193122748085,\n",
       " 0.5834588223086388,\n",
       " 0.5833983863534707,\n",
       " 0.5833380043163243,\n",
       " 0.5832776761044688,\n",
       " 0.5832174016254212,\n",
       " 0.5831571807869464,\n",
       " 0.5830970134970556,\n",
       " 0.5830368996640054,\n",
       " 0.5829768391962984,\n",
       " 0.5829168320026809,\n",
       " 0.5828568779921429,\n",
       " 0.5827969770739178,\n",
       " 0.5827371291574805,\n",
       " 0.582677334152548,\n",
       " 0.5826175919690771,\n",
       " 0.5825579025172657,\n",
       " 0.5824982657075496,\n",
       " 0.5824386814506046,\n",
       " 0.5823791496573429,\n",
       " 0.5823196702389147,\n",
       " 0.5822602431067062,\n",
       " 0.5822008681723393,\n",
       " 0.5821415453476706,\n",
       " 0.5820822745447913,\n",
       " 0.5820230556760257,\n",
       " 0.5819638886539313,\n",
       " 0.5819047733912975,\n",
       " 0.5818457098011449,\n",
       " 0.5817866977967249,\n",
       " 0.5817277372915189,\n",
       " 0.5816688281992376,\n",
       " 0.5816099704338205,\n",
       " 0.5815511639094345,\n",
       " 0.5814924085404739,\n",
       " 0.58143370424156,\n",
       " 0.581375050927539,\n",
       " 0.5813164485134832,\n",
       " 0.5812578969146887,\n",
       " 0.5811993960466754,\n",
       " 0.5811409458251867,\n",
       " 0.5810825461661883,\n",
       " 0.5810241969858673,\n",
       " 0.5809658982006323,\n",
       " 0.5809076497271118,\n",
       " 0.5808494514821549,\n",
       " 0.5807913033828289,\n",
       " 0.5807332053464198,\n",
       " 0.5806751572904316,\n",
       " 0.5806171591325848,\n",
       " 0.580559210790817,\n",
       " 0.580501312183281,\n",
       " 0.5804434632283453,\n",
       " 0.580385663844592,\n",
       " 0.5803279139508177,\n",
       " 0.5802702134660321,\n",
       " 0.5802125623094572,\n",
       " 0.5801549604005269,\n",
       " 0.5800974076588864,\n",
       " 0.5800399040043913,\n",
       " 0.5799824493571074,\n",
       " 0.5799250436373096,\n",
       " 0.5798676867654816,\n",
       " 0.5798103786623152,\n",
       " 0.5797531192487092,\n",
       " 0.5796959084457696,\n",
       " 0.5796387461748084,\n",
       " 0.5795816323573432,\n",
       " 0.5795245669150962,\n",
       " 0.5794675497699944,\n",
       " 0.5794105808441679,\n",
       " 0.57935366005995,\n",
       " 0.5792967873398767,\n",
       " 0.5792399626066855,\n",
       " 0.5791831857833154,\n",
       " 0.5791264567929054,\n",
       " 0.5790697755587951,\n",
       " 0.5790131420045231,\n",
       " 0.5789565560538269,\n",
       " 0.578900017630642,\n",
       " 0.5788435266591019,\n",
       " 0.5787870830635363,\n",
       " 0.5787306867684718,\n",
       " 0.578674337698631,\n",
       " 0.5786180357789307,\n",
       " 0.5785617809344832,\n",
       " 0.5785055730905946,\n",
       " 0.5784494121727639,\n",
       " 0.5783932981066834,\n",
       " 0.5783372308182375,\n",
       " 0.5782812102335023,\n",
       " 0.5782252362787447,\n",
       " 0.5781693088804222,\n",
       " 0.5781134279651824,\n",
       " 0.5780575934598617,\n",
       " 0.5780018052914861,\n",
       " 0.577946063387269,\n",
       " 0.5778903676746114,\n",
       " 0.5778347180811019,\n",
       " 0.5777791145345152,\n",
       " 0.5777235569628119,\n",
       " 0.577668045294138,\n",
       " 0.5776125794568242,\n",
       " 0.5775571593793855,\n",
       " 0.5775017849905204,\n",
       " 0.5774464562191106,\n",
       " 0.5773911729942205,\n",
       " 0.577335935245096,\n",
       " 0.5772807429011649,\n",
       " 0.5772255958920358,\n",
       " 0.5771704941474975,\n",
       " 0.5771154375975184,\n",
       " 0.5770604261722466,\n",
       " 0.5770054598020082,\n",
       " 0.5769505384173086,\n",
       " 0.5768956619488295,\n",
       " 0.5768408303274304,\n",
       " 0.5767860434841474,\n",
       " 0.576731301350192,\n",
       " 0.5766766038569519,\n",
       " 0.5766219509359892,\n",
       " 0.5765673425190406,\n",
       " 0.5765127785380166,\n",
       " 0.5764582589250012,\n",
       " 0.5764037836122511,\n",
       " 0.576349352532195,\n",
       " 0.5762949656174339,\n",
       " 0.5762406228007396,\n",
       " 0.5761863240150551,\n",
       " 0.5761320691934931,\n",
       " 0.5760778582693363,\n",
       " 0.5760236911760366,\n",
       " 0.5759695678472141,\n",
       " 0.5759154882166577,\n",
       " 0.5758614522183236,\n",
       " 0.5758074597863352,\n",
       " 0.5757535108549825,\n",
       " 0.5756996053587216,\n",
       " 0.575645743232174,\n",
       " 0.5755919244101271,\n",
       " 0.575538148827532,\n",
       " 0.5754844164195042,\n",
       " 0.5754307271213231,\n",
       " 0.575377080868431,\n",
       " 0.5753234775964329,\n",
       " 0.5752699172410958,\n",
       " 0.5752163997383484,\n",
       " 0.5751629250242805,\n",
       " 0.5751094930351427,\n",
       " 0.5750561037073458,\n",
       " 0.5750027569774602,\n",
       " 0.5749494527822154,\n",
       " 0.5748961910584997,\n",
       " 0.5748429717433597,\n",
       " 0.5747897947739999,\n",
       " 0.5747366600877816,\n",
       " 0.5746835676222235,\n",
       " 0.5746305173150001,\n",
       " 0.5745775091039423,\n",
       " 0.5745245429270359,\n",
       " 0.5744716187224218,\n",
       " 0.5744187364283956,\n",
       " 0.5743658959834063,\n",
       " 0.5743130973260568,\n",
       " 0.5742603403951033,\n",
       " 0.574207625129454,\n",
       " 0.5741549514681695,\n",
       " 0.5741023193504622,\n",
       " 0.5740497287156955,\n",
       " 0.5739971795033836,\n",
       " 0.5739446716531911,\n",
       " 0.5738922051049321,\n",
       " 0.5738397797985704,\n",
       " 0.5737873956742188,\n",
       " 0.573735052672138,\n",
       " 0.5736827507327376,\n",
       " 0.5736304897965739,\n",
       " 0.573578269804351,\n",
       " 0.5735260906969195,\n",
       " 0.5734739524152759,\n",
       " 0.5734218549005629,\n",
       " 0.5733697980940683,\n",
       " 0.5733177819372252,\n",
       " 0.5732658063716106,\n",
       " 0.5732138713389462,\n",
       " 0.5731619767810967,\n",
       " 0.5731101226400703,\n",
       " 0.5730583088580182,\n",
       " 0.5730065353772332,\n",
       " 0.5729548021401506,\n",
       " 0.5729031090893467,\n",
       " 0.5728514561675394,\n",
       " 0.5727998433175865,\n",
       " 0.5727482704824864,\n",
       " 0.5726967376053774,\n",
       " 0.5726452446295367,\n",
       " 0.5725937914983805,\n",
       " 0.5725423781554637,\n",
       " 0.5724910045444792,\n",
       " 0.5724396706092574,\n",
       " 0.5723883762937659,\n",
       " 0.5723371215421095,\n",
       " 0.572285906298529,\n",
       " 0.5722347305074016,\n",
       " 0.5721835941132393,\n",
       " 0.5721324970606902,\n",
       " 0.5720814392945366,\n",
       " 0.5720304207596955,\n",
       " 0.5719794414012174,\n",
       " 0.5719285011642868,\n",
       " 0.5718775999942213,\n",
       " 0.5718267378364708,\n",
       " 0.5717759146366181,\n",
       " 0.5717251303403775,\n",
       " 0.5716743848935953,\n",
       " 0.5716236782422486,\n",
       " 0.5715730103324452,\n",
       " 0.5715223811104236,\n",
       " 0.571471790522552,\n",
       " 0.5714212385153284,\n",
       " 0.5713707250353796,\n",
       " 0.5713202500294615,\n",
       " 0.5712698134444584,\n",
       " 0.5712194152273825,\n",
       " 0.5711690553253739,\n",
       " 0.5711187336856993,\n",
       " 0.5710684502557531,\n",
       " 0.5710182049830557,\n",
       " 0.5709679978152535,\n",
       " 0.5709178287001193,\n",
       " 0.5708676975855501,\n",
       " 0.5708176044195691,\n",
       " 0.5707675491503231,\n",
       " 0.570717531726084,\n",
       " 0.5706675520952466,\n",
       " 0.5706176102063297,\n",
       " 0.5705677060079756,\n",
       " 0.5705178394489484,\n",
       " 0.5704680104781353,\n",
       " 0.570418219044545,\n",
       " 0.5703684650973082,\n",
       " 0.5703187485856768,\n",
       " 0.5702690694590232,\n",
       " 0.5702194276668408,\n",
       " 0.570169823158743,\n",
       " 0.5701202558844629,\n",
       " 0.5700707257938533,\n",
       " 0.5700212328368858,\n",
       " 0.5699717769636509,\n",
       " 0.5699223581243573,\n",
       " 0.569872976269332,\n",
       " 0.5698236313490195,\n",
       " 0.5697743233139816,\n",
       " 0.569725052114897,\n",
       " 0.5696758177025611,\n",
       " 0.5696266200278858,\n",
       " 0.569577459041898,\n",
       " 0.5695283346957415,\n",
       " 0.5694792469406741,\n",
       " 0.5694301957280693,\n",
       " 0.5693811810094147,\n",
       " 0.5693322027363119,\n",
       " 0.5692832608604772,\n",
       " 0.5692343553337392,\n",
       " 0.5691854861080407,\n",
       " 0.5691366531354366,\n",
       " 0.5690878563680946,\n",
       " 0.5690390957582946,\n",
       " 0.568990371258428,\n",
       " 0.5689416828209981,\n",
       " 0.5688930303986188,\n",
       " 0.5688444139440153,\n",
       " 0.568795833410023,\n",
       " 0.5687472887495876,\n",
       " 0.5686987799157645,\n",
       " 0.5686503068617182,\n",
       " 0.5686018695407233,\n",
       " 0.5685534679061623,\n",
       " 0.5685051019115268,\n",
       " 0.5684567715104162,\n",
       " 0.5684084766565379,\n",
       " 0.5683602173037069,\n",
       " 0.5683119934058452,\n",
       " 0.568263804916982,\n",
       " 0.5682156517912528,\n",
       " 0.5681675339828992,\n",
       " 0.5681194514462694,\n",
       " 0.5680714041358167,\n",
       " 0.5680233920060995,\n",
       " 0.5679754150117817,\n",
       " 0.5679274731076316,\n",
       " 0.5678795662485218,\n",
       " 0.5678316943894292,\n",
       " 0.5677838574854341,\n",
       " 0.5677360554917205,\n",
       " 0.5676882883635754,\n",
       " 0.5676405560563887,\n",
       " 0.5675928585256528,\n",
       " 0.5675451957269619,\n",
       " 0.567497567616013,\n",
       " 0.5674499741486035,\n",
       " 0.5674024152806332,\n",
       " 0.5673548909681021,\n",
       " 0.5673074011671114,\n",
       " 0.5672599458338622,\n",
       " 0.567212524924656,\n",
       " 0.5671651383958941,\n",
       " 0.5671177862040774,\n",
       " 0.5670704683058055,\n",
       " 0.5670231846577772,\n",
       " 0.5669759352167902,\n",
       " 0.5669287199397399,\n",
       " 0.5668815387836204,\n",
       " 0.5668343917055227,\n",
       " 0.5667872786626361,\n",
       " 0.5667401996122465,\n",
       " 0.5666931545117369,\n",
       " 0.5666461433185864,\n",
       " 0.5665991659903712,\n",
       " 0.5665522224847628,\n",
       " 0.5665053127595284,\n",
       " 0.5664584367725314,\n",
       " 0.5664115944817296,\n",
       " 0.5663647858451758,\n",
       " 0.5663180108210174,\n",
       " 0.5662712693674963,\n",
       " 0.5662245614429482,\n",
       " 0.5661778870058025,\n",
       " 0.5661312460145824,\n",
       " 0.5660846384279038,\n",
       " 0.5660380642044758,\n",
       " 0.5659915233031002,\n",
       " 0.565945015682671,\n",
       " 0.5658985413021742,\n",
       " 0.5658521001206878,\n",
       " 0.5658056920973812,\n",
       " 0.5657593171915152,\n",
       " 0.5657129753624414,\n",
       " 0.5656666665696024,\n",
       " 0.565620390772531,\n",
       " 0.5655741479308504,\n",
       " 0.5655279380042734,\n",
       " 0.5654817609526027,\n",
       " 0.5654356167357306,\n",
       " 0.5653895053136381,\n",
       " 0.5653434266463953,\n",
       " 0.5652973806941607,\n",
       " 0.5652513674171815,\n",
       " 0.5652053867757927,\n",
       " 0.565159438730417,\n",
       " 0.565113523241565,\n",
       " 0.5650676402698342,\n",
       " 0.5650217897759099,\n",
       " 0.5649759717205631,\n",
       " 0.5649301860646522,\n",
       " 0.5648844327691214,\n",
       " 0.5648387117950011,\n",
       " 0.5647930231034074,\n",
       " 0.5647473666555419,\n",
       " 0.5647017424126918,\n",
       " 0.5646561503362285,\n",
       " 0.5646105903876092,\n",
       " 0.5645650625283746,\n",
       " 0.5645195667201505,\n",
       " 0.5644741029246461,\n",
       " 0.5644286711036546,\n",
       " 0.5643832712190529,\n",
       " 0.5643379032328006,\n",
       " 0.5642925671069412,\n",
       " 0.5642472628036002,\n",
       " 0.5642019902849857,\n",
       " 0.5641567495133888,\n",
       " 0.5641115404511818,\n",
       " 0.5640663630608193,\n",
       " 0.5640212173048373,\n",
       " 0.5639761031458532,\n",
       " 0.5639310205465655,\n",
       " 0.5638859694697533,\n",
       " 0.5638409498782768,\n",
       " 0.5637959617350761,\n",
       " 0.5637510050031718,\n",
       " 0.563706079645664,\n",
       " 0.5636611856257331,\n",
       " 0.5636163229066381,\n",
       " 0.5635714914517179,\n",
       " 0.5635266912243904,\n",
       " 0.5634819221881515,\n",
       " 0.5634371843065764,\n",
       " 0.5633924775433182,\n",
       " 0.5633478018621081,\n",
       " ...]"
      ]
     },
     "execution_count": 73,
     "metadata": {},
     "output_type": "execute_result"
    }
   ],
   "source": [
    "loss_epoch"
   ]
  },
  {
   "cell_type": "code",
   "execution_count": 70,
   "id": "3477e3e5-8bb7-4920-bed9-b72da1c60300",
   "metadata": {},
   "outputs": [
    {
     "data": {
      "text/plain": [
       "[<matplotlib.lines.Line2D at 0x1efb4bdd460>]"
      ]
     },
     "execution_count": 70,
     "metadata": {},
     "output_type": "execute_result"
    },
    {
     "data": {
      "image/png": "[encoded data removed]",
      "text/plain": [
       "<Figure size 640x480 with 1 Axes>"
      ]
     },
     "metadata": {},
     "output_type": "display_data"
    }
   ],
   "source": [
    "plt.plot(loss_epoch)"
   ]
  },
  {
   "cell_type": "code",
   "execution_count": 77,
   "id": "4e2d2a00-8a8e-49bf-8f65-69a248d192af",
   "metadata": {},
   "outputs": [],
   "source": [
    "def predict(X, weights):\n",
    "    pred = hypothesis(X, weights)\n",
    "    \n",
    "    if pred > 0.5:\n",
    "        return 1\n",
    "    else:\n",
    "        return 0"
   ]
  },
  {
   "cell_type": "code",
   "execution_count": 78,
   "id": "79078c26-b3cc-4343-a30d-c19d5a7b9760",
   "metadata": {},
   "outputs": [
    {
     "name": "stdout",
     "output_type": "stream",
     "text": [
      "0 0\n"
     ]
    }
   ],
   "source": [
    "print(predict(test_X[1], weights), test_Y[1])"
   ]
  },
  {
   "cell_type": "code",
   "execution_count": 79,
   "id": "e6965725-408f-41a6-b142-eb377e4a0122",
   "metadata": {},
   "outputs": [
    {
     "name": "stdout",
     "output_type": "stream",
     "text": [
      "0.8044692737430168\n"
     ]
    }
   ],
   "source": [
    "corr = 0\n",
    "for i in range(test_X.shape[0]):\n",
    "    pred = predict(test_X[i], weights)\n",
    "    if pred == test_Y[i]:\n",
    "        corr += 1\n",
    "print(corr/test_X.shape[0])        "
   ]
  },
  {
   "cell_type": "code",
   "execution_count": 80,
   "id": "e7598daf-102e-4311-98fb-bd46eee82651",
   "metadata": {},
   "outputs": [],
   "source": [
    "# Feature Engineering -> Accuracy can increase if we remove non-importance features(cols)"
   ]
  },
  {
   "cell_type": "code",
   "execution_count": 81,
   "id": "8ccc6834-3f0a-49c0-9acc-db26617a5dc7",
   "metadata": {},
   "outputs": [],
   "source": [
    "# Here, we have not normalize the data."
   ]
  },
  {
   "cell_type": "code",
   "execution_count": null,
   "id": "58edcc12-6fa0-4f1e-a991-5dc153ac21c9",
   "metadata": {},
   "outputs": [],
   "source": []
  }
 ],
 "metadata": {
  "kernelspec": {
   "display_name": "Python 3 (ipykernel)",
   "language": "python",
   "name": "python3"
  },
  "language_info": {
   "codemirror_mode": {
    "name": "ipython",
    "version": 3
   },
   "file_extension": ".py",
   "mimetype": "text/x-python",
   "name": "python",
   "nbconvert_exporter": "python",
   "pygments_lexer": "ipython3",
   "version": "3.12.4"
  }
 },
 "nbformat": 4,
 "nbformat_minor": 5
}
